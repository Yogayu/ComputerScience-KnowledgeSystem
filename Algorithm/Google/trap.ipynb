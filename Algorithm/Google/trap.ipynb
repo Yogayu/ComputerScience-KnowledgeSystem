{
 "cells": [
  {
   "cell_type": "code",
   "execution_count": 6,
   "metadata": {},
   "outputs": [],
   "source": [
    "l = [1,2,3,4,5]"
   ]
  },
  {
   "cell_type": "code",
   "execution_count": 7,
   "metadata": {},
   "outputs": [
    {
     "data": {
      "text/plain": [
       "[1, 2, 3, 4, 5]"
      ]
     },
     "execution_count": 7,
     "metadata": {},
     "output_type": "execute_result"
    }
   ],
   "source": [
    "l"
   ]
  },
  {
   "cell_type": "code",
   "execution_count": 18,
   "metadata": {},
   "outputs": [
    {
     "name": "stdout",
     "output_type": "stream",
     "text": [
      "5\n",
      "4\n",
      "3\n",
      "2\n",
      "1\n"
     ]
    }
   ],
   "source": [
    "for i in range(len(l)-1,-1,-1):\n",
    "    print(l[i])"
   ]
  },
  {
   "cell_type": "code",
   "execution_count": 84,
   "metadata": {},
   "outputs": [],
   "source": [
    "class Solution(object):\n",
    "    def trap(self, height):\n",
    "        \"\"\"\n",
    "        :type height: List[int]\n",
    "        :rtype: int\n",
    "        \"\"\"\n",
    "        if len(height) == 0:\n",
    "            return 0\n",
    "        \n",
    "        total = 0\n",
    "        \n",
    "        max_index = 0\n",
    "        for i,v in enumerate(height):\n",
    "            if height[max_index] < v:\n",
    "                max_index = i\n",
    "        \n",
    "        new_max = 0\n",
    "        cur_max = 0\n",
    "        \n",
    "        for i in range(max_index+1):\n",
    "            if height[i] >= height[cur_max]:\n",
    "                new_max = i\n",
    "                min_max = min(height[cur_max],height[new_max])\n",
    "                for j in range(cur_max, new_max):\n",
    "                    total += (min_max - height[j])\n",
    "                cur_max = new_max\n",
    "        \n",
    "        \n",
    "        last = len(height) -1\n",
    "        new_max = last\n",
    "        cur_max = last\n",
    "        \n",
    "        for i in range(last, max_index-1,-1):\n",
    "            if height[i] >= height[cur_max]:\n",
    "                new_max = i\n",
    "                min_max = min(height[cur_max],height[new_max])\n",
    "                for j in range(cur_max, new_max, -1):\n",
    "                    total += (min_max - height[j])\n",
    "                cur_max = new_max\n",
    "        \n",
    "        return total"
   ]
  },
  {
   "cell_type": "code",
   "execution_count": 85,
   "metadata": {},
   "outputs": [
    {
     "data": {
      "text/plain": [
       "0"
      ]
     },
     "execution_count": 85,
     "metadata": {},
     "output_type": "execute_result"
    }
   ],
   "source": [
    "height = []\n",
    "Solution().trap(height)"
   ]
  },
  {
   "cell_type": "code",
   "execution_count": null,
   "metadata": {},
   "outputs": [],
   "source": []
  },
  {
   "cell_type": "code",
   "execution_count": null,
   "metadata": {},
   "outputs": [],
   "source": []
  }
 ],
 "metadata": {
  "kernelspec": {
   "display_name": "Python 3",
   "language": "python",
   "name": "python3"
  },
  "language_info": {
   "codemirror_mode": {
    "name": "ipython",
    "version": 3
   },
   "file_extension": ".py",
   "mimetype": "text/x-python",
   "name": "python",
   "nbconvert_exporter": "python",
   "pygments_lexer": "ipython3",
   "version": "3.7.3"
  }
 },
 "nbformat": 4,
 "nbformat_minor": 2
}
