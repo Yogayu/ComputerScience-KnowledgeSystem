{
 "cells": [
  {
   "cell_type": "markdown",
   "metadata": {},
   "source": [
    "- initialisation: to set the number of input, hidden and output nodes\n",
    "\n",
    "- train: refine the weights after being given a trainingset example to learn from \n",
    "\n",
    "- query: give an answer from the output nodes after being given an input"
   ]
  },
  {
   "cell_type": "code",
   "execution_count": 161,
   "metadata": {},
   "outputs": [],
   "source": [
    "import numpy as np\n",
    "import scipy.special\n",
    "import matplotlib.pyplot as plt\n",
    "%matplotlib inline"
   ]
  },
  {
   "cell_type": "code",
   "execution_count": 202,
   "metadata": {},
   "outputs": [],
   "source": [
    "# neural network class definition\n",
    "class neuralNetwork():\n",
    "    # initialisa the neural network\n",
    "    def __init__(self, input_nodes_num, hidden_nodes_num, output_nodes_num, learning_rate):\n",
    "        # set number of nodes in each input, hidden, ouput layer\n",
    "        self.inodes = input_nodes_num\n",
    "        self.hnodes = hidden_nodes_num\n",
    "        self.onodes = output_nodes_num\n",
    "\n",
    "        # learning rate\n",
    "        self.lr = learning_rate\n",
    "        \n",
    "        # Weights: The Heart of the Network\n",
    "        self.w_ih = (np.random.rand(self.hnodes, self.inodes) - 0.5)\n",
    "        self.w_ho = (np.random.rand(self.onodes, self.hnodes) - 0.5)\n",
    "        \n",
    "        # 1/√(number of incoming links).\n",
    "        self.w_ih = np.random.normal(0.0, pow(self.hnodes, -0.5),\n",
    "                                    (self.hnodes, self.inodes))\n",
    "        self.w_ho = np.random.normal(0.0, pow(self.onodes, -0.5),\n",
    "                                    (self.onodes, self.hnodes))\n",
    "        # activate funcation is the sigmoid funcation\n",
    "        self.activate_funcation = lambda x:scipy.special.expit(x)\n",
    "        \n",
    "    def train(self, inputs_list, targets_list):\n",
    "        inputs = np.array(inputs_list, ndmin=2).T\n",
    "        targets = np.array(targets_list, ndmin=2).T\n",
    "        \n",
    "        hidden_inputs = np.dot(self.w_ih, inputs)\n",
    "        hidden_outputs = self.activate_funcation(hidden_inputs)\n",
    "        \n",
    "        final_inputs = np.dot(self.w_ho, hidden_outputs)\n",
    "        final_outputs = self.activate_funcation(final_inputs)\n",
    "        \n",
    "        ###### Back propagated errors ########\n",
    "        output_error = targets - final_outputs\n",
    "        # Calculate the back propagated errors for the hidden layer nodes\n",
    "        # error_hidden = weights^T_hidden_output * error_output\n",
    "        hidden_error = np.dot(self.w_ho.T, output_error)\n",
    "\n",
    "        ###### Update the weights ########\n",
    "        # update the weights for the links between the hidden and output\n",
    "        self.w_ho += self.lr * np.dot((output_error * final_outputs*(1.0-final_outputs)),np.transpose(hidden_outputs))\n",
    "        # update the weights for the links between the hidden and input\n",
    "        self.w_ih += self.lr * np.dot((hidden_error * hidden_outputs*(1.0-hidden_outputs)), np.transpose(inputs))\n",
    "        \n",
    "    def query(self, inputs_list):\n",
    "        # X_hidden = W_input_hidden ∙ I\n",
    "        hidden_inputs = np.dot(self.w_ih, inputs_list)\n",
    "        # O_hidden = sigmoid(X_hidden)\n",
    "        hidden_outputs = self.activate_funcation(hidden_inputs)\n",
    "        \n",
    "        final_inputs = np.dot(self.w_ho, hidden_inputs)\n",
    "        final_outputs = self.activate_funcation(final_inputs)\n",
    "        return final_outputs"
   ]
  },
  {
   "cell_type": "code",
   "execution_count": 212,
   "metadata": {},
   "outputs": [],
   "source": [
    "# 28*28\n",
    "input_nodes_num = 784\n",
    "hidden_nodes_num = 100\n",
    "# 10个目标数字\n",
    "output_nodes_num = 10\n",
    "\n",
    "learning_rate = 0.1\n",
    "\n",
    "n = neuralNetwork(input_nodes_num, hidden_nodes_num, output_nodes_num, learning_rate)"
   ]
  },
  {
   "cell_type": "code",
   "execution_count": 213,
   "metadata": {},
   "outputs": [],
   "source": [
    "# n.query([1,0.5,-1.5])"
   ]
  },
  {
   "cell_type": "markdown",
   "metadata": {},
   "source": [
    "## 训练网络"
   ]
  },
  {
   "cell_type": "markdown",
   "metadata": {},
   "source": [
    "1. 根据指定的训练样本计算输出\n",
    "2. 将计算得到的输出与所需输出对比，使用差值来指导网络权重的更新"
   ]
  },
  {
   "cell_type": "markdown",
   "metadata": {},
   "source": [
    "- MNIST\n",
    "    - 28x28=784\n",
    "    - 标记和像素值"
   ]
  },
  {
   "cell_type": "code",
   "execution_count": 214,
   "metadata": {},
   "outputs": [],
   "source": [
    "# dataset: https://pjreddie.com/projects/mnist-in-csv/\n",
    "training_data_file = open(\"/Users/yogayu/Documents/code/makeyourownneuralnetwork/mnist_dataset/mnist_train.csv\",'r')\n",
    "training_data_list = training_data_file.readlines()\n",
    "training_data_file.close()"
   ]
  },
  {
   "cell_type": "code",
   "execution_count": 215,
   "metadata": {},
   "outputs": [
    {
     "data": {
      "text/plain": [
       "100"
      ]
     },
     "execution_count": 215,
     "metadata": {},
     "output_type": "execute_result"
    }
   ],
   "source": [
    "len(data_list)"
   ]
  },
  {
   "cell_type": "code",
   "execution_count": null,
   "metadata": {},
   "outputs": [],
   "source": []
  },
  {
   "cell_type": "code",
   "execution_count": 216,
   "metadata": {},
   "outputs": [
    {
     "data": {
      "text/plain": [
       "<matplotlib.image.AxesImage at 0x1513dbe470>"
      ]
     },
     "execution_count": 216,
     "metadata": {},
     "output_type": "execute_result"
    },
    {
     "data": {
      "image/png": "[encoded data removed]",
      "text/plain": [
       "<matplotlib.figure.Figure at 0x1513ba7240>"
      ]
     },
     "metadata": {},
     "output_type": "display_data"
    }
   ],
   "source": [
    "all_values = data_list[5].split(',')\n",
    "# asfarray: 将文本字符串转化为实数，并创建这些数字的数组\n",
    "# reshape: 转化为28*28 的方形矩阵\n",
    "image_array = np.asfarray(all_values[1:]).reshape((28,28))\n",
    "plt.imshow(image_array, cmap='Greys', interpolation='None')"
   ]
  },
  {
   "cell_type": "code",
   "execution_count": 217,
   "metadata": {},
   "outputs": [],
   "source": [
    "# train the neural network\n",
    "epochs = 5\n",
    "\n",
    "for e in range(epochs):\n",
    "    # 遍历每一个训练集数据\n",
    "    for record in training_data_list:\n",
    "        all_values = record.split(',')\n",
    "        # scale and shift the inputs\n",
    "        inputs = (np.asfarray(all_values[1:]) / 255.0 * 0.99) + 0.01\n",
    "        # create the target output values, (all 0.01, except the desired label which is 0.99)\n",
    "        targets = np.zeros(output_nodes_num) + 0.01\n",
    "        # all_values[0] is the target label for this record\n",
    "        targets[int(all_values[0])] = 0.99\n",
    "        n.train(inputs, targets)\n",
    "        pass\n",
    "    pass"
   ]
  },
  {
   "cell_type": "code",
   "execution_count": 218,
   "metadata": {},
   "outputs": [],
   "source": [
    "# dataset: https://pjreddie.com/projects/mnist-in-csv/\n",
    "# load the mnist test data CSV file into a list\n",
    "test_data_file = open(\"/Users/yogayu/Documents/code/makeyourownneuralnetwork/mnist_dataset/mnist_test.csv\", 'r')\n",
    "test_data_list = test_data_file.readlines()\n",
    "test_data_file.close()"
   ]
  },
  {
   "cell_type": "code",
   "execution_count": 219,
   "metadata": {},
   "outputs": [],
   "source": [
    "# test the neural network\n",
    "\n",
    "# scorecard for how well the network performs, initially empty\n",
    "scorecard = []\n",
    "\n",
    "# 遍历每一个测试集数据\n",
    "for record in test_data_list:\n",
    "    all_values = record.split(',')\n",
    "    correct_label = int(all_values[0])\n",
    "    inputs = (np.asfarray(all_values[1:]) / 255.0 * 0.99) + 0.01\n",
    "\n",
    "    outputs = n.query(inputs)\n",
    "    # the index of the highest value corresponds to the label\n",
    "    label = np.argmax(outputs)\n",
    "    \n",
    "    if label == correct_label:\n",
    "        scorecard.append(1)\n",
    "    else:\n",
    "        scorecard.append(0)\n",
    "        pass\n",
    "    pass"
   ]
  },
  {
   "cell_type": "code",
   "execution_count": 220,
   "metadata": {},
   "outputs": [
    {
     "name": "stdout",
     "output_type": "stream",
     "text": [
      "performance =  0.0998\n"
     ]
    }
   ],
   "source": [
    "# calculate the performance score, the fraction of correct answers\n",
    "scorecard_array = np.asarray(scorecard)\n",
    "print (\"performance = \", scorecard_array.sum() / scorecard_array.size)"
   ]
  },
  {
   "cell_type": "markdown",
   "metadata": {},
   "source": [
    "epochs=1\n",
    "\n",
    "0.1->0.1169\n",
    "0.1->0.1318\n",
    "\n",
    "epochs=5\n",
    "\n",
    "0.1->0.098\n",
    "0.3->0.098\n",
    "0.6->0.098\n",
    "\n",
    "epochs = 5\n",
    "hnodes=200\n",
    "lr=0.1\n",
    "performance =  0.098\n",
    "\n",
    "epochs = 1\n",
    "0.1075\n",
    "\n",
    "\n",
    "epochs = 5\n",
    "hnodes = 100\n",
    "lr = 0.1\n",
    "0.0998"
   ]
  },
  {
   "cell_type": "markdown",
   "metadata": {},
   "source": [
    "## 准备 MNIST 训练数据\n",
    "- 将输入色彩值从0-255的范围，缩放至0.01-1.0的范围。不取0值，因为0会导致权值更新失败。"
   ]
  },
  {
   "cell_type": "code",
   "execution_count": 159,
   "metadata": {},
   "outputs": [
    {
     "name": "stdout",
     "output_type": "stream",
     "text": [
      "[0.01       0.01       0.01       0.01       0.01       0.01\n",
      " 0.01       0.01       0.01       0.01       0.01       0.01\n",
      " 0.01       0.01       0.01       0.01       0.01       0.01\n",
      " 0.01       0.01       0.01       0.01       0.01       0.01\n",
      " 0.01       0.01       0.01       0.01       0.01       0.01\n",
      " 0.01       0.01       0.01       0.01       0.01       0.01\n",
      " 0.01       0.01       0.01       0.01       0.01       0.01\n",
      " 0.01       0.01       0.01       0.01       0.01       0.01\n",
      " 0.01       0.01       0.01       0.01       0.01       0.01\n",
      " 0.01       0.01       0.01       0.01       0.01       0.01\n",
      " 0.01       0.01       0.01       0.01       0.01       0.01\n",
      " 0.01       0.01       0.01       0.01       0.01       0.01\n",
      " 0.01       0.04105882 0.46423529 0.99611765 0.86411765 0.35552941\n",
      " 0.01       0.01       0.01       0.01       0.01       0.01\n",
      " 0.01       0.01       0.01       0.01       0.01       0.01\n",
      " 0.01       0.01       0.01       0.01       0.01       0.01\n",
      " 0.01       0.01       0.01       0.06047059 0.37882353 0.83305882\n",
      " 0.99223529 0.99223529 0.99223529 0.61952941 0.01       0.01\n",
      " 0.01       0.01       0.01       0.01       0.01       0.01\n",
      " 0.01       0.01       0.01       0.01       0.01       0.01\n",
      " 0.01       0.01       0.01       0.01       0.01       0.07211765\n",
      " 0.37882353 0.82141176 0.99223529 0.99223529 0.99223529 0.96117647\n",
      " 0.49529412 0.07988235 0.01       0.01       0.01       0.01\n",
      " 0.01       0.01       0.01       0.01       0.01       0.01\n",
      " 0.01       0.01       0.01       0.01       0.01       0.01\n",
      " 0.01       0.16529412 0.38270588 0.80976471 0.99223529 0.99611765\n",
      " 0.99223529 0.99223529 0.77870588 0.25847059 0.01       0.01\n",
      " 0.01       0.01       0.01       0.01       0.01       0.01\n",
      " 0.01       0.01       0.01       0.01       0.01       0.01\n",
      " 0.01       0.01       0.01       0.18082353 0.71658824 0.94176471\n",
      " 0.99223529 0.99223529 0.99223529 0.99611765 0.99223529 0.77870588\n",
      " 0.10317647 0.01       0.01       0.01       0.01       0.01\n",
      " 0.01       0.01       0.01       0.01       0.01       0.01\n",
      " 0.01       0.01       0.01       0.01       0.01       0.01\n",
      " 0.01       0.06823529 0.24294118 0.24294118 0.66223529 0.99223529\n",
      " 0.99223529 0.99611765 0.78647059 0.09929412 0.01       0.01\n",
      " 0.01       0.01       0.01       0.01       0.01       0.01\n",
      " 0.01       0.01       0.01       0.01       0.01       0.01\n",
      " 0.01       0.01       0.01       0.01       0.01       0.01\n",
      " 0.01       0.28176471 0.96894118 0.99223529 0.99223529 0.96117647\n",
      " 0.09152941 0.01       0.01       0.01       0.01       0.01\n",
      " 0.01       0.01       0.01       0.01       0.01       0.01\n",
      " 0.01       0.01       0.01       0.01       0.01       0.01\n",
      " 0.01       0.01       0.01       0.01       0.30117647 0.81364706\n",
      " 0.99223529 0.99223529 0.81364706 0.36717647 0.01       0.01\n",
      " 0.01       0.01       0.01       0.01       0.01       0.01\n",
      " 0.01       0.01       0.01       0.01       0.01       0.01\n",
      " 0.01       0.01       0.01       0.01       0.01       0.01\n",
      " 0.01       0.31670588 0.86023529 0.99223529 0.99223529 0.99223529\n",
      " 0.54576471 0.01       0.01       0.01       0.01       0.01\n",
      " 0.01       0.01       0.01       0.01       0.01       0.01\n",
      " 0.01       0.01       0.01       0.01       0.01       0.01\n",
      " 0.01       0.01       0.01       0.01       0.41764706 0.98058824\n",
      " 0.99223529 0.99223529 0.99223529 0.142      0.01388235 0.01\n",
      " 0.01       0.01       0.01       0.01       0.01       0.01\n",
      " 0.01       0.01       0.01       0.01       0.01       0.01\n",
      " 0.01       0.01       0.01       0.01       0.01       0.01\n",
      " 0.01       0.37882353 0.99611765 0.99611765 0.99611765 0.99611765\n",
      " 0.37494118 0.01       0.01       0.01       0.01       0.01\n",
      " 0.02164706 0.06047059 0.06047059 0.06047059 0.04105882 0.01\n",
      " 0.01       0.01       0.01       0.01       0.01       0.01\n",
      " 0.01       0.01       0.01       0.01       0.01       0.42541176\n",
      " 0.99223529 0.99223529 0.99223529 0.802      0.06823529 0.01\n",
      " 0.01       0.01       0.01       0.09152941 0.65447059 0.99223529\n",
      " 0.99223529 0.99223529 0.83305882 0.10705882 0.01       0.01\n",
      " 0.01       0.01       0.01       0.01       0.01       0.01\n",
      " 0.01       0.01       0.13811765 0.85247059 0.99223529 0.99223529\n",
      " 0.52247059 0.25847059 0.01       0.01       0.07988235 0.17694118\n",
      " 0.61952941 0.67388235 0.99223529 0.99223529 0.99223529 0.99223529\n",
      " 0.99223529 0.63117647 0.01776471 0.01       0.01       0.01\n",
      " 0.01       0.01       0.01       0.01       0.01       0.02164706\n",
      " 0.65447059 0.99223529 0.99223529 0.94952941 0.20023529 0.076\n",
      " 0.20023529 0.62341176 0.82529412 0.99611765 0.99223529 0.99223529\n",
      " 0.99223529 0.99223529 0.99223529 0.99223529 0.99223529 0.99223529\n",
      " 0.05270588 0.01       0.01       0.01       0.01       0.01\n",
      " 0.01       0.01       0.01       0.04882353 0.89129412 0.99223529\n",
      " 0.99223529 0.81364706 0.06823529 0.67776471 0.99223529 0.99223529\n",
      " 0.99223529 0.99611765 0.96894118 0.79035294 0.99223529 0.82529412\n",
      " 0.82529412 0.99223529 0.99223529 0.68941176 0.02552941 0.01\n",
      " 0.01       0.01       0.01       0.01       0.01       0.01\n",
      " 0.01       0.04882353 0.89517647 0.99223529 0.99223529 0.87964706\n",
      " 0.34776471 0.94952941 0.99223529 0.99223529 0.72435294 0.24294118\n",
      " 0.21964706 0.04494118 0.24294118 0.14588235 0.71658824 0.99223529\n",
      " 0.99223529 0.21188235 0.01       0.01       0.01       0.01\n",
      " 0.01       0.01       0.01       0.01       0.01       0.06047059\n",
      " 0.99223529 0.99223529 0.99223529 0.99223529 0.90682353 0.99223529\n",
      " 0.99223529 0.99223529 0.37105882 0.34388235 0.34388235 0.34388235\n",
      " 0.43317647 0.85247059 0.99223529 0.99223529 0.53023529 0.02941176\n",
      " 0.01       0.01       0.01       0.01       0.01       0.01\n",
      " 0.01       0.01       0.01       0.01776471 0.45647059 0.99223529\n",
      " 0.99223529 0.99223529 0.99223529 0.99223529 0.99223529 0.99223529\n",
      " 0.99223529 0.99611765 0.99223529 0.99223529 0.99223529 0.99223529\n",
      " 0.99223529 0.53023529 0.02941176 0.01       0.01       0.01\n",
      " 0.01       0.01       0.01       0.01       0.01       0.01\n",
      " 0.01       0.01       0.02164706 0.65447059 0.99223529 0.99223529\n",
      " 0.99223529 0.99223529 0.99223529 0.99223529 0.99223529 0.99611765\n",
      " 0.99223529 0.99223529 0.99223529 0.68941176 0.21188235 0.02941176\n",
      " 0.01       0.01       0.01       0.01       0.01       0.01\n",
      " 0.01       0.01       0.01       0.01       0.01       0.01\n",
      " 0.01       0.03717647 0.14588235 0.52247059 0.88352941 0.99223529\n",
      " 0.99223529 0.99223529 0.76705882 0.52247059 0.52247059 0.52247059\n",
      " 0.43705882 0.02552941 0.01       0.01       0.01       0.01\n",
      " 0.01       0.01       0.01       0.01       0.01       0.01\n",
      " 0.01       0.01       0.01       0.01       0.01       0.01\n",
      " 0.01       0.01       0.01       0.01       0.01       0.01\n",
      " 0.01       0.01       0.01       0.01       0.01       0.01\n",
      " 0.01       0.01       0.01       0.01       0.01       0.01\n",
      " 0.01       0.01       0.01       0.01       0.01       0.01\n",
      " 0.01       0.01       0.01       0.01       0.01       0.01\n",
      " 0.01       0.01       0.01       0.01       0.01       0.01\n",
      " 0.01       0.01       0.01       0.01       0.01       0.01\n",
      " 0.01       0.01       0.01       0.01       0.01       0.01\n",
      " 0.01       0.01       0.01       0.01       0.01       0.01\n",
      " 0.01       0.01       0.01       0.01       0.01       0.01\n",
      " 0.01       0.01       0.01       0.01       0.01       0.01\n",
      " 0.01       0.01       0.01       0.01       0.01       0.01\n",
      " 0.01       0.01       0.01       0.01       0.01       0.01\n",
      " 0.01       0.01       0.01       0.01       0.01       0.01\n",
      " 0.01       0.01       0.01       0.01       0.01       0.01\n",
      " 0.01       0.01       0.01       0.01       0.01       0.01\n",
      " 0.01       0.01       0.01       0.01       0.01       0.01\n",
      " 0.01       0.01       0.01       0.01       0.01       0.01\n",
      " 0.01       0.01       0.01       0.01       0.01       0.01\n",
      " 0.01       0.01       0.01       0.01       0.01       0.01\n",
      " 0.01       0.01       0.01       0.01       0.01       0.01\n",
      " 0.01       0.01       0.01       0.01       0.01       0.01\n",
      " 0.01       0.01       0.01       0.01       0.01       0.01\n",
      " 0.01       0.01       0.01       0.01       0.01       0.01\n",
      " 0.01       0.01       0.01       0.01       0.01       0.01\n",
      " 0.01       0.01       0.01       0.01       0.01       0.01\n",
      " 0.01       0.01       0.01       0.01      ]\n"
     ]
    }
   ],
   "source": [
    "# scale input to range 0.01 to 1.00\n",
    "# 0-255 转为 0-1，再乘0.99转为 0-0.99，在加0.01转为 0.01到1.0\n",
    "scaled_input = (np.asfarray(all_values[1:]) / 255.0 * 0.99) + 0.01\n",
    "print(scaled_input)"
   ]
  },
  {
   "cell_type": "code",
   "execution_count": 160,
   "metadata": {},
   "outputs": [],
   "source": [
    "#output nodes is 10\n",
    "# 设置输出为10个节点\n",
    "onodes = 10\n",
    "# 创建默认值为0.01的节点\n",
    "targets = np.zeros(onodes) + 0.01\n",
    "# 将目标标签转为整数\n",
    "# 将目标列表的正确元素设置为0.99\n",
    "targets[int(all_values[0])] = 0.99"
   ]
  },
  {
   "cell_type": "code",
   "execution_count": 28,
   "metadata": {},
   "outputs": [
    {
     "name": "stdout",
     "output_type": "stream",
     "text": [
      "[0.01 0.01 0.99 0.01 0.01 0.01 0.01 0.01 0.01 0.01]\n"
     ]
    }
   ],
   "source": [
    "print(targets)"
   ]
  },
  {
   "cell_type": "code",
   "execution_count": null,
   "metadata": {},
   "outputs": [],
   "source": []
  },
  {
   "cell_type": "code",
   "execution_count": null,
   "metadata": {},
   "outputs": [],
   "source": []
  }
 ],
 "metadata": {
  "kernelspec": {
   "display_name": "Python 3",
   "language": "python",
   "name": "python3"
  },
  "language_info": {
   "codemirror_mode": {
    "name": "ipython",
    "version": 3
   },
   "file_extension": ".py",
   "mimetype": "text/x-python",
   "name": "python",
   "nbconvert_exporter": "python",
   "pygments_lexer": "ipython3",
   "version": "3.6.4"
  }
 },
 "nbformat": 4,
 "nbformat_minor": 2
}
