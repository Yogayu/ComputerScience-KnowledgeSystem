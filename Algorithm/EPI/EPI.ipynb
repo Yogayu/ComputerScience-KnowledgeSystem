{
 "cells": [
  {
   "cell_type": "markdown",
   "metadata": {},
   "source": [
    "# EPI"
   ]
  },
  {
   "cell_type": "markdown",
   "metadata": {},
   "source": [
    "## C4. Primitive Type"
   ]
  },
  {
   "cell_type": "markdown",
   "metadata": {},
   "source": [
    "### Primitive types boot camp"
   ]
  },
  {
   "cell_type": "code",
   "execution_count": 10,
   "metadata": {},
   "outputs": [],
   "source": [
    "# count the number of bits that are set to 1 in a positive integer \n",
    "def conuntBits(x):\n",
    "    numBits = 0\n",
    "    while x:\n",
    "        numBits += x & 1\n",
    "        x >>= 1\n",
    "    return numBits"
   ]
  },
  {
   "cell_type": "code",
   "execution_count": 11,
   "metadata": {},
   "outputs": [],
   "source": [
    "def parity(x):\n",
    "    result = 0\n",
    "    while x:\n",
    "        result ^= I\n",
    "        x &= x - 1 # Drops the -lowest set bit of x return result"
   ]
  },
  {
   "cell_type": "code",
   "execution_count": 12,
   "metadata": {},
   "outputs": [
    {
     "data": {
      "text/plain": [
       "2"
      ]
     },
     "execution_count": 12,
     "metadata": {},
     "output_type": "execute_result"
    }
   ],
   "source": [
    "conuntBits(12)"
   ]
  },
  {
   "cell_type": "markdown",
   "metadata": {},
   "source": [
    "### Know your primitive types\n",
    "Integers in Python3 are unbounded-the maximum integer representable is a fr:nction of the available memory."
   ]
  },
  {
   "cell_type": "code",
   "execution_count": 13,
   "metadata": {},
   "outputs": [
    {
     "name": "stdout",
     "output_type": "stream",
     "text": [
      "9223372036854775807\n",
      "sys.float_info(max=1.7976931348623157e+308, max_exp=1024, max_10_exp=308, min=2.2250738585072014e-308, min_exp=-1021, min_10_exp=-307, dig=15, mant_dig=53, epsilon=2.220446049250313e-16, radix=2, rounds=1)\n"
     ]
    }
   ],
   "source": [
    "import sys\n",
    "print(sys.maxsize)\n",
    "print(sys.float_info)"
   ]
  },
  {
   "cell_type": "markdown",
   "metadata": {},
   "source": [
    "Be very familiar with bit-wise operators.\n",
    "```\n",
    "&\n",
    "|\n",
    ">>\n",
    "<<\n",
    "~\n",
    "^\n",
    "```\n",
    "\n",
    "[StackOverflow](https://stackoverflow.com/questions/1746613/bitwise-operation-and-usage)\n",
    "[PythonWiki](https://wiki.python.org/moin/BitwiseOperators)"
   ]
  },
  {
   "cell_type": "code",
   "execution_count": 14,
   "metadata": {},
   "outputs": [
    {
     "name": "stdout",
     "output_type": "stream",
     "text": [
      "Line 1 - Value of c is  12\n",
      "Line 2 - Value of c is  61\n",
      "Line 3 - Value of c is  49\n",
      "Line 4 - Value of c is  -61\n",
      "Line 5 - Value of c is  240\n",
      "Line 6 - Value of c is  15\n"
     ]
    }
   ],
   "source": [
    "#!/usr/bin/python\n",
    "# https://www.tutorialspoint.com/python/bitwise_operators_example.htm\n",
    "a = 60            # 60 = 0011 1100 \n",
    "b = 13            # 13 = 0000 1101 \n",
    "c = 0\n",
    "\n",
    "c = a & b;        # 12 = 0000 1100\n",
    "print(\"Line 1 - Value of c is \", c)\n",
    "\n",
    "c = a | b;        # 61 = 0011 1101 \n",
    "print(\"Line 2 - Value of c is \", c)\n",
    "\n",
    "c = a ^ b;        # 49 = 0011 0001\n",
    "print(\"Line 3 - Value of c is \", c)\n",
    "\n",
    "c = ~a;           # -61 = 1100 0011\n",
    "print(\"Line 4 - Value of c is \", c)\n",
    "\n",
    "c = a << 2;       # 240 = 1111 0000\n",
    "print(\"Line 5 - Value of c is \", c)\n",
    "\n",
    "c = a >> 2;       # 15 = 0000 1111\n",
    "print(\"Line 6 - Value of c is \", c)"
   ]
  },
  {
   "cell_type": "markdown",
   "metadata": {},
   "source": [
    "- x >> y # 返回 x 向右移 y 位得到的结果\n",
    "- x << y # 返回 x 向左移 y 位得到的结果\n",
    "- 向右移1位可以看成除以2，向左移一位可以看成乘以2。移动n位可以看成乘以或者除以2的n次方。\n",
    "- x & y # 且操作，返回结果的每一位是 x 和 y 中对应位做 and 运算的结果，只有 1 and 1 = 1，其他情况位0\n",
    "- x | y # 或操作，返回结果的每一位是 x 和 y 中对应位做 or 运算的结果，只有 0 or 0 = 0，其他情况位1\n",
    "- ~x # 反转操作，对 x 求的每一位求补，只需记住结果是 -x - 1\n",
    "- (没看懂) x ^ y # 或非运算，如果 y 对应位是0，那么结果位取 x 的对应位，如果 y 对应位是1，取 x 对应位的补"
   ]
  },
  {
   "cell_type": "markdown",
   "metadata": {},
   "source": [
    "- Be very comfortable with the bitwise operators, particularly XOR.\n",
    "- Understand how to use masks and create them in an machine independent way,\n",
    "- Know fast ways to clear the lowermost set bit (and by extension, set the lowermost 0, get its index, etc.)\n",
    "- Understand signedness and its implications to shifting.\n",
    "- Consider using a cache to accelerate operations by using it to brute-force small inputs.\n",
    "- Be aware that commutativity and associativity can be used to perform operations in parallel and reorder operations."
   ]
  },
  {
   "cell_type": "markdown",
   "metadata": {},
   "source": [
    "### The key methods for numeric types"
   ]
  },
  {
   "cell_type": "code",
   "execution_count": 15,
   "metadata": {},
   "outputs": [],
   "source": [
    "import math"
   ]
  },
  {
   "cell_type": "code",
   "execution_count": 16,
   "metadata": {},
   "outputs": [
    {
     "data": {
      "text/plain": [
       "34.5"
      ]
     },
     "execution_count": 16,
     "metadata": {},
     "output_type": "execute_result"
    }
   ],
   "source": [
    "abs(-34.5)"
   ]
  },
  {
   "cell_type": "code",
   "execution_count": 17,
   "metadata": {},
   "outputs": [
    {
     "data": {
      "text/plain": [
       "3"
      ]
     },
     "execution_count": 17,
     "metadata": {},
     "output_type": "execute_result"
    }
   ],
   "source": [
    "math.ceil(2.17)"
   ]
  },
  {
   "cell_type": "code",
   "execution_count": 18,
   "metadata": {},
   "outputs": [
    {
     "data": {
      "text/plain": [
       "3"
      ]
     },
     "execution_count": 18,
     "metadata": {},
     "output_type": "execute_result"
    }
   ],
   "source": [
    "math.floor(3.54)"
   ]
  },
  {
   "cell_type": "code",
   "execution_count": 19,
   "metadata": {},
   "outputs": [
    {
     "data": {
      "text/plain": [
       "-4"
      ]
     },
     "execution_count": 19,
     "metadata": {},
     "output_type": "execute_result"
    }
   ],
   "source": [
    "min(2, -4)"
   ]
  },
  {
   "cell_type": "code",
   "execution_count": 20,
   "metadata": {},
   "outputs": [
    {
     "data": {
      "text/plain": [
       "3.14"
      ]
     },
     "execution_count": 20,
     "metadata": {},
     "output_type": "execute_result"
    }
   ],
   "source": [
    "max(3.14, 1)"
   ]
  },
  {
   "cell_type": "code",
   "execution_count": 21,
   "metadata": {},
   "outputs": [
    {
     "data": {
      "text/plain": [
       "22.619459310747015"
      ]
     },
     "execution_count": 21,
     "metadata": {},
     "output_type": "execute_result"
    }
   ],
   "source": [
    "pow(2.7, 3.14)"
   ]
  },
  {
   "cell_type": "code",
   "execution_count": 22,
   "metadata": {},
   "outputs": [
    {
     "data": {
      "text/plain": [
       "15.0"
      ]
     },
     "execution_count": 22,
     "metadata": {},
     "output_type": "execute_result"
    }
   ],
   "source": [
    "math.sqrt(225)"
   ]
  },
  {
   "cell_type": "markdown",
   "metadata": {},
   "source": [
    "#### interconvert integers and strings"
   ]
  },
  {
   "cell_type": "code",
   "execution_count": 23,
   "metadata": {},
   "outputs": [
    {
     "data": {
      "text/plain": [
       "3.14"
      ]
     },
     "execution_count": 23,
     "metadata": {},
     "output_type": "execute_result"
    }
   ],
   "source": [
    "str(42)\n",
    "int('42')\n",
    "str(3.14)\n",
    "float('3.14')"
   ]
  },
  {
   "cell_type": "markdown",
   "metadata": {},
   "source": [
    "#### floats are not infinite precision, create psuedo max-int and pseudo min-int"
   ]
  },
  {
   "cell_type": "code",
   "execution_count": 24,
   "metadata": {},
   "outputs": [
    {
     "data": {
      "text/plain": [
       "-inf"
      ]
     },
     "execution_count": 24,
     "metadata": {},
     "output_type": "execute_result"
    }
   ],
   "source": [
    "float('inf')\n",
    "float('-inf')"
   ]
  },
  {
   "cell_type": "markdown",
   "metadata": {},
   "source": [
    "#### Comparing floating"
   ]
  },
  {
   "cell_type": "code",
   "execution_count": 25,
   "metadata": {},
   "outputs": [
    {
     "data": {
      "text/plain": [
       "True"
      ]
     },
     "execution_count": 25,
     "metadata": {},
     "output_type": "execute_result"
    }
   ],
   "source": [
    "# When comparing floating point values consider using math.isclose()-it is robust,\n",
    "# e.g., when comparing very large values, \n",
    "# and can handle both absolute and relative differences.\n",
    "\n",
    "math.isclose(12.22,12.22)"
   ]
  },
  {
   "cell_type": "markdown",
   "metadata": {},
   "source": [
    "#### Random"
   ]
  },
  {
   "cell_type": "code",
   "execution_count": 26,
   "metadata": {},
   "outputs": [
    {
     "data": {
      "text/plain": [
       "28"
      ]
     },
     "execution_count": 26,
     "metadata": {},
     "output_type": "execute_result"
    }
   ],
   "source": [
    "import random\n",
    "# 开闭区间\n",
    "random.randrange(27,29)"
   ]
  },
  {
   "cell_type": "code",
   "execution_count": 27,
   "metadata": {},
   "outputs": [
    {
     "data": {
      "text/plain": [
       "11"
      ]
     },
     "execution_count": 27,
     "metadata": {},
     "output_type": "execute_result"
    }
   ],
   "source": [
    "# 闭区间\n",
    "random.randint(8,16)"
   ]
  },
  {
   "cell_type": "code",
   "execution_count": 28,
   "metadata": {},
   "outputs": [
    {
     "data": {
      "text/plain": [
       "0.44619558286653516"
      ]
     },
     "execution_count": 28,
     "metadata": {},
     "output_type": "execute_result"
    }
   ],
   "source": [
    "# 0-1\n",
    "random.random()"
   ]
  },
  {
   "cell_type": "code",
   "execution_count": 29,
   "metadata": {},
   "outputs": [
    {
     "data": {
      "text/plain": [
       "[4, 15, 3, 12]"
      ]
     },
     "execution_count": 29,
     "metadata": {},
     "output_type": "execute_result"
    }
   ],
   "source": [
    "A = [12,3,4,15]\n",
    "random.shuffle(A)\n",
    "A"
   ]
  },
  {
   "cell_type": "code",
   "execution_count": 30,
   "metadata": {},
   "outputs": [
    {
     "data": {
      "text/plain": [
       "4"
      ]
     },
     "execution_count": 30,
     "metadata": {},
     "output_type": "execute_result"
    }
   ],
   "source": [
    "random.choice(A)"
   ]
  },
  {
   "cell_type": "markdown",
   "metadata": {
    "toc-hr-collapsed": false
   },
   "source": [
    "## 4.1 Parity checks \n",
    "This are used to detect single bit errors in data storage and communication. \n",
    "\n",
    "How would you compute the parity of a very large number of 64-bit words?"
   ]
  },
  {
   "cell_type": "code",
   "execution_count": 31,
   "metadata": {},
   "outputs": [],
   "source": [
    "# The brute-force algorithm\n",
    "def parity(x):\n",
    "    result = 0\n",
    "    while x:\n",
    "        # l = x & 1: mask the last bit\n",
    "        # r ^ l: the number 1 is even or odd\n",
    "        result ^= x & 1\n",
    "        x >>= 1\n",
    "    return result"
   ]
  },
  {
   "cell_type": "code",
   "execution_count": 32,
   "metadata": {},
   "outputs": [
    {
     "name": "stdout",
     "output_type": "stream",
     "text": [
      "1\n"
     ]
    }
   ],
   "source": [
    "print(parity(4))"
   ]
  },
  {
   "cell_type": "markdown",
   "metadata": {},
   "source": [
    "Time: $O(n)$"
   ]
  },
  {
   "cell_type": "markdown",
   "metadata": {},
   "source": [
    "x: 0100\n",
    "r: 0000\n",
    "l: 0000\n",
    "r: 0000 xor\n",
    "x: 0010\n",
    "\n",
    "l: 0000\n",
    "r: 0000\n",
    "x: 0001\n",
    "\n",
    "l: 0001\n",
    "r: 0001\n",
    "x: 0000"
   ]
  },
  {
   "cell_type": "markdown",
   "metadata": {},
   "source": [
    "A great bit-fiddling trick which you should commit to memory: \n",
    "\n",
    "**x & (x - 1) equals x with its lowest set bit erased**. \n",
    "\n",
    "Forexample, if x= $(00101100)_2$,\n",
    "\n",
    "then $x-1= (00101011)_2$, \n",
    "\n",
    "so x&(x - 1) = (00101100)_2 &(00101011)_2 = (00101000)_2. "
   ]
  },
  {
   "cell_type": "markdown",
   "metadata": {},
   "source": [
    "x &= x - 1"
   ]
  },
  {
   "cell_type": "code",
   "execution_count": 33,
   "metadata": {},
   "outputs": [],
   "source": [
    "def parity(x):\n",
    "    result = 0\n",
    "    while x:\n",
    "        result ^= 1\n",
    "        x &= x - 1 # Drops the lowest set bit of x \n",
    "    return result"
   ]
  },
  {
   "cell_type": "markdown",
   "metadata": {},
   "source": [
    "Let k be the number of bits set to 1 in a particular word. \n",
    "(For example, for 10001010, k = 3.) Then time complexity of the algorithm below is O(k)."
   ]
  },
  {
   "cell_type": "markdown",
   "metadata": {},
   "source": [
    "For any kind of bit fiddling computations two keys to performance are:\n",
    "1. processing multiple bits at a time\n",
    "2. caching results in an array-based lookup table."
   ]
  },
  {
   "cell_type": "markdown",
   "metadata": {},
   "source": [
    "What's the $2^{64}$ in english?"
   ]
  },
  {
   "cell_type": "markdown",
   "metadata": {},
   "source": [
    "p22 - p25 2019-05-06\n",
    "还是先跳过位操作吧"
   ]
  },
  {
   "cell_type": "markdown",
   "metadata": {},
   "source": [
    "## Chapter 5 Array"
   ]
  },
  {
   "cell_type": "markdown",
   "metadata": {},
   "source": [
    "1. Retrieving and updating A[i] takes O(1) time. \n",
    "2. The time complexity to delete the element at index i from an array of length n is O(n - i).\n",
    "3. inserting a new element: O(n - i)\n",
    "4. Q: but if the new array has, for example, a constant factor larger than the original array, the average tirne for insertion is constant since resizing is infrequent.???"
   ]
  },
  {
   "cell_type": "markdown",
   "metadata": {},
   "source": [
    "- Take advantage of the fact that you can operate efficiently on both ends."
   ]
  },
  {
   "cell_type": "code",
   "execution_count": 34,
   "metadata": {},
   "outputs": [],
   "source": [
    "''' Given an array A[], \n",
    "write a function that segregates even and odd numbers. \n",
    "The functions should put all even numbers first, and then odd numbers.\n",
    "Average running time:   26 us\n",
    "Median running time:     7 us\n",
    "'''\n",
    "def evenOdd(A):\n",
    "    if not A: return\n",
    "    left, right = 0, len(A)-1\n",
    "    while left < right:\n",
    "        if A[left] % 2 == 0:\n",
    "            left += 1\n",
    "        if A[right] % 2 != 0:\n",
    "            right -= 1\n",
    "        # Last step, make sure left is less than right index\n",
    "        if A[left] %2 !=0 & A[right] % 2 ==0 and left<right:\n",
    "            A[left],A[right] = A[right],A[left]"
   ]
  },
  {
   "cell_type": "code",
   "execution_count": 35,
   "metadata": {},
   "outputs": [
    {
     "data": {
      "text/plain": [
       "[4, 2, 4, 1, 3]"
      ]
     },
     "execution_count": 35,
     "metadata": {},
     "output_type": "execute_result"
    }
   ],
   "source": [
    "[2,1,5,10]\n",
    "[2,10,5,1]\n",
    "[4,2,4,1,3]"
   ]
  },
  {
   "cell_type": "code",
   "execution_count": 36,
   "metadata": {},
   "outputs": [],
   "source": [
    "'''\n",
    "Average running time:   15 us\n",
    "Median running time:     4 us\n",
    "'''\n",
    "def even_odd(A):\n",
    "    nextEven, nextOdd = 0, len(A) - 1\n",
    "    while nextEven < nextOdd:\n",
    "        if A[nextEven] % 2 == 0: \n",
    "            nextEven += 1\n",
    "        else:\n",
    "            A[nextEven], A[nextOdd] = A[nextOdd], A[nextEven]\n",
    "            nextOdd -= 1"
   ]
  },
  {
   "cell_type": "code",
   "execution_count": 37,
   "metadata": {},
   "outputs": [
    {
     "name": "stdout",
     "output_type": "stream",
     "text": [
      "CPU times: user 5 µs, sys: 0 ns, total: 5 µs\n",
      "Wall time: 6.91 µs\n"
     ]
    }
   ],
   "source": [
    "A = [4,3,4,1,2]\n",
    "%time evenOdd(A)"
   ]
  },
  {
   "cell_type": "code",
   "execution_count": 38,
   "metadata": {},
   "outputs": [
    {
     "name": "stdout",
     "output_type": "stream",
     "text": [
      "CPU times: user 4 µs, sys: 1 µs, total: 5 µs\n",
      "Wall time: 7.15 µs\n"
     ]
    }
   ],
   "source": [
    "A = [4,3,4,1,2]\n",
    "%time even_odd(A)"
   ]
  },
  {
   "cell_type": "markdown",
   "metadata": {},
   "source": [
    "- space complexity $O(1)$\n",
    "- time complexity $O(n)$"
   ]
  },
  {
   "cell_type": "markdown",
   "metadata": {},
   "source": [
    "### Tips\n",
    "- Array problems often have simple brute.force solutions that use O(n) space, but there are subtler solutions that **use the array itself** to reduce space complexity to O(1). 使用 array 本身的空间，来减少空间复杂度。\n",
    "- Filling an array from the front is slow, so see if it's possible to write values from the back. 从前面添加很慢，所以看看能不能从后面写。\n",
    "- Instead of deleting an entry (which requires moving all entries to its left), consider overwriting it. 考虑覆盖一个值，而不是删除它。\n",
    "- When dealing with integers encoded by an array consider processing the digits **from the back of the array**. Altemately, reverse the array so the **least-significant** digit is the first entry. 整数数组，考虑从后面开始处理。\n",
    "- Be comfortable with writing code that operates on subarrays. 操作子字符串。\n",
    "- It's incredibly easy to make **off-by-1** errors when operating on arrays——reading past the last element of an array is a comrnon error which has catastrophic consequences.\n",
    "- Don't worry about preserving the **integrity** of the array (sortedness, keeping equal entries together, etc.) until it is time to retum. 返回之前，不用担心完整性。\n",
    "- An array can serve as a good data structure when you know the **distribution of the elements** in advance. For example, a Boolean array of length W is a good choice for representing a subset of {0,'1.,. .. ,W - 1}. (When using a Boolean array to represent a subset of {'J.,2,3,.. . ,fl|, allocate an array of size n+1 to simplify indexing.) .\n",
    "- When operating on 2D arrays, **use parallel logic** for rows and for columns. 使用并行逻辑?\n",
    "- Sometimes it's easier to **simulate the specification**, than to analytically solve for the result. For example, rather than writing a formula for the i-th entry in the spiral order for an n x n matrix, just compute the output from the beginning.??"
   ]
  },
  {
   "cell_type": "markdown",
   "metadata": {
    "toc-hr-collapsed": false
   },
   "source": [
    "### Know yow array libraries"
   ]
  },
  {
   "cell_type": "code",
   "execution_count": 39,
   "metadata": {},
   "outputs": [],
   "source": [
    "# the symtax for instantiating a list\n",
    "a = [3, 5, 7, 11]\n",
    "b = [1] + [0] * 10\n",
    "c = list(range(100))"
   ]
  },
  {
   "cell_type": "code",
   "execution_count": 40,
   "metadata": {},
   "outputs": [
    {
     "data": {
      "text/plain": [
       "28"
      ]
     },
     "execution_count": 40,
     "metadata": {},
     "output_type": "execute_result"
    }
   ],
   "source": [
    "# The basic operations are\n",
    "A = [1,2,3,4]\n",
    "len(A)\n",
    "A.append(42)\n",
    "A.insert(3, 28)\n",
    "# number\n",
    "A.remove(2)\n",
    "# index\n",
    "A.pop(2)"
   ]
  },
  {
   "cell_type": "code",
   "execution_count": 41,
   "metadata": {},
   "outputs": [
    {
     "data": {
      "text/plain": [
       "[[1, 2, 4], [3, 5, 7, 97], [13]]"
      ]
     },
     "execution_count": 41,
     "metadata": {},
     "output_type": "execute_result"
    }
   ],
   "source": [
    "#instantiate a 2D array, \n",
    "[[1 , 2, 4 ],[3, 5, 7, 97], [13]]"
   ]
  },
  {
   "cell_type": "code",
   "execution_count": 42,
   "metadata": {},
   "outputs": [
    {
     "data": {
      "text/plain": [
       "True"
      ]
     },
     "execution_count": 42,
     "metadata": {},
     "output_type": "execute_result"
    }
   ],
   "source": [
    "# Checking if a value is present in an array\n",
    "# O(n) time complexity, where n is the length of the array.\n",
    "1 in A"
   ]
  },
  {
   "cell_type": "markdown",
   "metadata": {},
   "source": [
    "#### deep copy and shallow copy"
   ]
  },
  {
   "cell_type": "code",
   "execution_count": 43,
   "metadata": {},
   "outputs": [],
   "source": [
    "# Understand how copy works\n",
    "A = [1,2,3,4]\n",
    "B = A\n",
    "C = list(A)"
   ]
  },
  {
   "cell_type": "code",
   "execution_count": 44,
   "metadata": {},
   "outputs": [
    {
     "name": "stdout",
     "output_type": "stream",
     "text": [
      "[2, 3, 4]\n",
      "[2, 3, 4]\n",
      "[1, 2, 3, 4]\n"
     ]
    }
   ],
   "source": [
    "A.remove(1)\n",
    "print(A)\n",
    "print(B)\n",
    "print(C)"
   ]
  },
  {
   "cell_type": "code",
   "execution_count": 45,
   "metadata": {},
   "outputs": [],
   "source": [
    "import copy\n",
    "D = copy.copy(A)\n",
    "E = copy.deepcopy(A)"
   ]
  },
  {
   "cell_type": "code",
   "execution_count": 46,
   "metadata": {},
   "outputs": [
    {
     "name": "stdout",
     "output_type": "stream",
     "text": [
      "[2, 3, 12]\n",
      "[2, 3, 4]\n",
      "[2, 3, 4]\n"
     ]
    }
   ],
   "source": [
    "A[2] = 12\n",
    "print(A)\n",
    "print(D)\n",
    "print(E)"
   ]
  },
  {
   "cell_type": "code",
   "execution_count": 47,
   "metadata": {},
   "outputs": [
    {
     "data": {
      "text/plain": [
       "\u001b[0;31mSignature:\u001b[0m \u001b[0mcopy\u001b[0m\u001b[0;34m.\u001b[0m\u001b[0mcopy\u001b[0m\u001b[0;34m(\u001b[0m\u001b[0mx\u001b[0m\u001b[0;34m)\u001b[0m\u001b[0;34m\u001b[0m\u001b[0m\n",
       "\u001b[0;31mDocstring:\u001b[0m\n",
       "Shallow copy operation on arbitrary Python objects.\n",
       "\n",
       "See the module's __doc__ string for more info.\n",
       "\u001b[0;31mFile:\u001b[0m      ~/anaconda3/lib/python3.6/copy.py\n",
       "\u001b[0;31mType:\u001b[0m      function\n"
      ]
     },
     "metadata": {},
     "output_type": "display_data"
    }
   ],
   "source": [
    "copy.copy?"
   ]
  },
  {
   "cell_type": "code",
   "execution_count": 48,
   "metadata": {},
   "outputs": [
    {
     "data": {
      "text/plain": [
       "\u001b[0;31mSignature:\u001b[0m \u001b[0mcopy\u001b[0m\u001b[0;34m.\u001b[0m\u001b[0mdeepcopy\u001b[0m\u001b[0;34m(\u001b[0m\u001b[0mx\u001b[0m\u001b[0;34m,\u001b[0m \u001b[0mmemo\u001b[0m\u001b[0;34m=\u001b[0m\u001b[0;32mNone\u001b[0m\u001b[0;34m,\u001b[0m \u001b[0m_nil\u001b[0m\u001b[0;34m=\u001b[0m\u001b[0;34m[\u001b[0m\u001b[0;34m]\u001b[0m\u001b[0;34m)\u001b[0m\u001b[0;34m\u001b[0m\u001b[0m\n",
       "\u001b[0;31mDocstring:\u001b[0m\n",
       "Deep copy operation on arbitrary Python objects.\n",
       "\n",
       "See the module's __doc__ string for more info.\n",
       "\u001b[0;31mFile:\u001b[0m      ~/anaconda3/lib/python3.6/copy.py\n",
       "\u001b[0;31mType:\u001b[0m      function\n"
      ]
     },
     "metadata": {},
     "output_type": "display_data"
    }
   ],
   "source": [
    "copy.deepcopy?"
   ]
  },
  {
   "cell_type": "markdown",
   "metadata": {},
   "source": [
    "**Important!!!**\n",
    "\n",
    "The difference between shallow and deep copying is only relevant for compound objects (objects that contain other objects, like lists or class instances):\n",
    "- A shallow copy constructs a new compound object and then (to the extent possible) inserts references into it to the objects found in the original.\n",
    "- A deep copy constructs a new compound object and then, recursively, inserts copies into it of the objects found in the original.\n",
    "\n",
    "[Source Link](https://stackoverflow.com/questions/17246693/what-exactly-is-the-difference-between-shallow-copy-deepcopy-and-normal-assignm#)\n"
   ]
  },
  {
   "cell_type": "code",
   "execution_count": 49,
   "metadata": {},
   "outputs": [
    {
     "data": {
      "text/plain": [
       "\u001b[0;31mSignature:\u001b[0m \u001b[0mid\u001b[0m\u001b[0;34m(\u001b[0m\u001b[0mobj\u001b[0m\u001b[0;34m,\u001b[0m \u001b[0;34m/\u001b[0m\u001b[0;34m)\u001b[0m\u001b[0;34m\u001b[0m\u001b[0m\n",
       "\u001b[0;31mDocstring:\u001b[0m\n",
       "Return the identity of an object.\n",
       "\n",
       "This is guaranteed to be unique among simultaneously existing objects.\n",
       "(CPython uses the object's memory address.)\n",
       "\u001b[0;31mType:\u001b[0m      builtin_function_or_method\n"
      ]
     },
     "metadata": {},
     "output_type": "display_data"
    }
   ],
   "source": [
    "id?"
   ]
  },
  {
   "cell_type": "code",
   "execution_count": 50,
   "metadata": {},
   "outputs": [],
   "source": [
    "a = [[1,12],[1,2,23],[4]]\n",
    "b = copy.copy(a)\n",
    "c = copy.deepcopy(a)"
   ]
  },
  {
   "cell_type": "code",
   "execution_count": 51,
   "metadata": {},
   "outputs": [],
   "source": [
    "a[0][0] = 2"
   ]
  },
  {
   "cell_type": "code",
   "execution_count": 52,
   "metadata": {},
   "outputs": [
    {
     "name": "stdout",
     "output_type": "stream",
     "text": [
      "[[2, 12], [1, 2, 23], [4]]\n",
      "[[2, 12], [1, 2, 23], [4]]\n",
      "[[1, 12], [1, 2, 23], [4]]\n",
      "False\n",
      "False\n",
      "True\n",
      "False\n"
     ]
    }
   ],
   "source": [
    "print(a)\n",
    "print(b)\n",
    "print(c)\n",
    "print(id(a) == id(b))\n",
    "print(id(a) == id(c))\n",
    "print(id(a[0]) == id(b[0]))\n",
    "print(id(a[0]) == id(c[0]))"
   ]
  },
  {
   "cell_type": "code",
   "execution_count": 53,
   "metadata": {},
   "outputs": [
    {
     "data": {
      "text/plain": [
       "1"
      ]
     },
     "execution_count": 53,
     "metadata": {},
     "output_type": "execute_result"
    }
   ],
   "source": [
    "# Key methods for list include\n",
    "A = [1,2,3,4,6]\n",
    "min(A)"
   ]
  },
  {
   "cell_type": "code",
   "execution_count": 54,
   "metadata": {},
   "outputs": [
    {
     "data": {
      "text/plain": [
       "6"
      ]
     },
     "execution_count": 54,
     "metadata": {},
     "output_type": "execute_result"
    }
   ],
   "source": [
    "max(A)"
   ]
  },
  {
   "cell_type": "code",
   "execution_count": 55,
   "metadata": {},
   "outputs": [
    {
     "data": {
      "text/plain": [
       "5"
      ]
     },
     "execution_count": 55,
     "metadata": {},
     "output_type": "execute_result"
    }
   ],
   "source": [
    "# binary search for sorted lists \n",
    "import bisect\n",
    "bisect.bisect(A,6)"
   ]
  },
  {
   "cell_type": "code",
   "execution_count": 56,
   "metadata": {},
   "outputs": [
    {
     "data": {
      "text/plain": [
       "4"
      ]
     },
     "execution_count": 56,
     "metadata": {},
     "output_type": "execute_result"
    }
   ],
   "source": [
    "bisect.bisect_left(A,6)"
   ]
  },
  {
   "cell_type": "code",
   "execution_count": 57,
   "metadata": {},
   "outputs": [
    {
     "data": {
      "text/plain": [
       "5"
      ]
     },
     "execution_count": 57,
     "metadata": {},
     "output_type": "execute_result"
    }
   ],
   "source": [
    "bisect.bisect_right(A,6)"
   ]
  },
  {
   "cell_type": "code",
   "execution_count": 58,
   "metadata": {},
   "outputs": [
    {
     "data": {
      "text/plain": [
       "[6, 4, 3, 2, 1]"
      ]
     },
     "execution_count": 58,
     "metadata": {},
     "output_type": "execute_result"
    }
   ],
   "source": [
    "# in-place\n",
    "A.reverse()\n",
    "A"
   ]
  },
  {
   "cell_type": "code",
   "execution_count": 59,
   "metadata": {},
   "outputs": [
    {
     "data": {
      "text/plain": [
       "<list_reverseiterator at 0x10d1cdda0>"
      ]
     },
     "execution_count": 59,
     "metadata": {},
     "output_type": "execute_result"
    }
   ],
   "source": [
    "# return an iterator\n",
    "reversed(A)"
   ]
  },
  {
   "cell_type": "code",
   "execution_count": 60,
   "metadata": {},
   "outputs": [
    {
     "data": {
      "text/plain": [
       "[1, 2, 3, 4, 6]"
      ]
     },
     "execution_count": 60,
     "metadata": {},
     "output_type": "execute_result"
    }
   ],
   "source": [
    "# in-place\n",
    "A.sort()\n",
    "A"
   ]
  },
  {
   "cell_type": "code",
   "execution_count": 61,
   "metadata": {},
   "outputs": [
    {
     "data": {
      "text/plain": [
       "[1, 2, 3, 4, 6]"
      ]
     },
     "execution_count": 61,
     "metadata": {},
     "output_type": "execute_result"
    }
   ],
   "source": [
    "# retums a copy\n",
    "sorted(A)"
   ]
  },
  {
   "cell_type": "code",
   "execution_count": 62,
   "metadata": {},
   "outputs": [
    {
     "data": {
      "text/plain": [
       "[2, 3, 4, 6]"
      ]
     },
     "execution_count": 62,
     "metadata": {},
     "output_type": "execute_result"
    }
   ],
   "source": [
    "# deletes the i-th element\n",
    "del A[0]\n",
    "A"
   ]
  },
  {
   "cell_type": "code",
   "execution_count": 63,
   "metadata": {},
   "outputs": [
    {
     "data": {
      "text/plain": [
       "[4, 6]"
      ]
     },
     "execution_count": 63,
     "metadata": {},
     "output_type": "execute_result"
    }
   ],
   "source": [
    "# removes the slice\n",
    "del A[:2]\n",
    "A"
   ]
  },
  {
   "cell_type": "markdown",
   "metadata": {
    "toc-hr-collapsed": false
   },
   "source": [
    "##### Slicing"
   ]
  },
  {
   "cell_type": "markdown",
   "metadata": {},
   "source": [
    "[source link](https://stackoverflow.com/questions/509211/understanding-slice-notation/509295#509295)"
   ]
  },
  {
   "cell_type": "markdown",
   "metadata": {},
   "source": [
    "a[start:stop]  # items start through stop-1\n",
    "\n",
    "a[start:]      # items start through the rest of the array\n",
    "\n",
    "a[:stop]       # items from the beginning through stop-1\n",
    "\n",
    "a[:]           # a copy of the whole array\n",
    "\n",
    "a[start:stop:step] # start through not past stop, by step\n",
    "\n",
    "The other feature is that start or stop may be a negative number, which means it counts from the end of the array instead of the beginning. So:"
   ]
  },
  {
   "cell_type": "code",
   "execution_count": 64,
   "metadata": {},
   "outputs": [
    {
     "data": {
      "text/plain": [
       "[1, 2, 3, 4]"
      ]
     },
     "execution_count": 64,
     "metadata": {},
     "output_type": "execute_result"
    }
   ],
   "source": [
    "a = [1,2,3,4,5,6]\n",
    "a[-1]    # last item in the array\n",
    "a[-2:]   # last two items in the array\n",
    "a[:-2]   # everything except the last two items"
   ]
  },
  {
   "cell_type": "code",
   "execution_count": 65,
   "metadata": {},
   "outputs": [
    {
     "data": {
      "text/plain": [
       "[4, 3, 2, 1]"
      ]
     },
     "execution_count": 65,
     "metadata": {},
     "output_type": "execute_result"
    }
   ],
   "source": [
    "a[::-1]    # all items in the array, reversed\n",
    "a[1::-1]   # the first two items, reversed\n",
    "a[:-3:-1]  # the last two items, reversed\n",
    "a[-3::-1]  # everything except the last two items, reversed"
   ]
  },
  {
   "cell_type": "code",
   "execution_count": 66,
   "metadata": {},
   "outputs": [
    {
     "ename": "NameError",
     "evalue": "name 'seq' is not defined",
     "output_type": "error",
     "traceback": [
      "\u001b[0;31m---------------------------------------------------------------------------\u001b[0m",
      "\u001b[0;31mNameError\u001b[0m                                 Traceback (most recent call last)",
      "\u001b[0;32m<ipython-input-66-e5e0439abeb2>\u001b[0m in \u001b[0;36m<module>\u001b[0;34m()\u001b[0m\n\u001b[0;32m----> 1\u001b[0;31m \u001b[0mseq\u001b[0m\u001b[0;34m[\u001b[0m\u001b[0;34m:\u001b[0m\u001b[0;34m]\u001b[0m                \u001b[0;31m# [seq[0],   seq[1],          ..., seq[-1]    ]\u001b[0m\u001b[0;34m\u001b[0m\u001b[0m\n\u001b[0m\u001b[1;32m      2\u001b[0m \u001b[0mseq\u001b[0m\u001b[0;34m[\u001b[0m\u001b[0mlow\u001b[0m\u001b[0;34m:\u001b[0m\u001b[0;34m]\u001b[0m             \u001b[0;31m# [seq[low], seq[low+1],      ..., seq[-1]    ]\u001b[0m\u001b[0;34m\u001b[0m\u001b[0m\n\u001b[1;32m      3\u001b[0m \u001b[0mseq\u001b[0m\u001b[0;34m[\u001b[0m\u001b[0;34m:\u001b[0m\u001b[0mhigh\u001b[0m\u001b[0;34m]\u001b[0m            \u001b[0;31m# [seq[0],   seq[1],          ..., seq[high-1]]\u001b[0m\u001b[0;34m\u001b[0m\u001b[0m\n\u001b[1;32m      4\u001b[0m \u001b[0mseq\u001b[0m\u001b[0;34m[\u001b[0m\u001b[0mlow\u001b[0m\u001b[0;34m:\u001b[0m\u001b[0mhigh\u001b[0m\u001b[0;34m]\u001b[0m         \u001b[0;31m# [seq[low], seq[low+1],      ..., seq[high-1]]\u001b[0m\u001b[0;34m\u001b[0m\u001b[0m\n\u001b[1;32m      5\u001b[0m \u001b[0mseq\u001b[0m\u001b[0;34m[\u001b[0m\u001b[0;34m:\u001b[0m\u001b[0;34m:\u001b[0m\u001b[0mstride\u001b[0m\u001b[0;34m]\u001b[0m         \u001b[0;31m# [seq[0],   seq[stride],     ..., seq[-1]    ]\u001b[0m\u001b[0;34m\u001b[0m\u001b[0m\n",
      "\u001b[0;31mNameError\u001b[0m: name 'seq' is not defined"
     ]
    }
   ],
   "source": [
    ">>> seq[:]                # [seq[0],   seq[1],          ..., seq[-1]    ]\n",
    ">>> seq[low:]             # [seq[low], seq[low+1],      ..., seq[-1]    ]\n",
    ">>> seq[:high]            # [seq[0],   seq[1],          ..., seq[high-1]]\n",
    ">>> seq[low:high]         # [seq[low], seq[low+1],      ..., seq[high-1]]\n",
    ">>> seq[::stride]         # [seq[0],   seq[stride],     ..., seq[-1]    ]\n",
    ">>> seq[low::stride]      # [seq[low], seq[low+stride], ..., seq[-1]    ]\n",
    ">>> seq[:high:stride]     # [seq[0],   seq[stride],     ..., seq[high-1]]\n",
    ">>> seq[low:high:stride]  # [seq[low], seq[low+stride], ..., seq[high-1]]"
   ]
  },
  {
   "cell_type": "markdown",
   "metadata": {
    "toc-hr-collapsed": false
   },
   "source": [
    "#### list comprehension "
   ]
  },
  {
   "cell_type": "code",
   "execution_count": null,
   "metadata": {},
   "outputs": [],
   "source": [
    "[x**2 for x in range(6)]"
   ]
  },
  {
   "cell_type": "code",
   "execution_count": null,
   "metadata": {},
   "outputs": [],
   "source": [
    "[x**2 for x in range(6) if x%2 == 0]"
   ]
  },
  {
   "cell_type": "code",
   "execution_count": null,
   "metadata": {},
   "outputs": [],
   "source": [
    "# supports multiple levels of looping\n",
    "A = [1, 3, 5]\n",
    "B = ['d', 'b']\n",
    "[(x, y) for x in A for y in B]"
   ]
  },
  {
   "cell_type": "code",
   "execution_count": null,
   "metadata": {},
   "outputs": [],
   "source": [
    "# 2D list-> 1D list\n",
    "M = [['a', 'b', 'c'],['d', 'e','f']]\n",
    "[x for row in M for x in row]"
   ]
  },
  {
   "cell_type": "markdown",
   "metadata": {},
   "source": [
    "it is best to avoid more than two nested comprehensions\n",
    "\n",
    "sets and dictionaries also support list comprehensions"
   ]
  },
  {
   "cell_type": "code",
   "execution_count": null,
   "metadata": {},
   "outputs": [],
   "source": [
    "a = [1,2,3,7,1]"
   ]
  },
  {
   "cell_type": "code",
   "execution_count": null,
   "metadata": {},
   "outputs": [],
   "source": []
  },
  {
   "cell_type": "code",
   "execution_count": null,
   "metadata": {},
   "outputs": [],
   "source": [
    "a"
   ]
  },
  {
   "cell_type": "code",
   "execution_count": null,
   "metadata": {},
   "outputs": [],
   "source": []
  },
  {
   "cell_type": "code",
   "execution_count": null,
   "metadata": {},
   "outputs": [],
   "source": [
    "def reverse(x):\n",
    "    left, right = 0, len(x)-1\n",
    "    while left < right:\n",
    "        x[left], x[right] = x[right],x[left]\n",
    "        left += 1\n",
    "        right -=1"
   ]
  },
  {
   "cell_type": "code",
   "execution_count": null,
   "metadata": {},
   "outputs": [],
   "source": [
    "l = [12,4,2,34]\n",
    "reverse(l)\n",
    "l"
   ]
  },
  {
   "cell_type": "markdown",
   "metadata": {
    "toc-hr-collapsed": false
   },
   "source": [
    "#### 5.1 dutch_flag_partition problem"
   ]
  },
  {
   "cell_type": "markdown",
   "metadata": {},
   "source": [
    "5-9\n",
    "\n",
    "One solution is to reorder the array so that all elements less than the pivot appear first, followed by elements equal to the pivot, followed by elements greater than the pivot. This is known as Dutch national flag partitioning, because the Dutch national flag consists of three horizontal bands, each in a different color."
   ]
  },
  {
   "cell_type": "markdown",
   "metadata": {},
   "source": [
    "Reorder the array so that all the elements less than the pivot appear first, followed by element\n"
   ]
  },
  {
   "cell_type": "code",
   "execution_count": null,
   "metadata": {},
   "outputs": [],
   "source": [
    "# Quick Sort\n",
    "def printArray(arr):\n",
    "  print(' '.join(str(i) for i in arr))\n",
    "\n",
    "\n",
    "def quicksort(arr, i, j):\n",
    "  if i < j:\n",
    "    pos = partition(arr, i, j)\n",
    "    quicksort(arr, i, pos - 1)\n",
    "    quicksort(arr, pos + 1, j)\n",
    "\n",
    "\n",
    "def partition(arr, i, j):\n",
    "  pivot = arr[j]\n",
    "  small = i - 1\n",
    "  for k in range(i, j):\n",
    "    if arr[k] <= pivot:\n",
    "      small += 1\n",
    "      swap(arr, k, small)\n",
    "\n",
    "  swap(arr, j, small + 1)\n",
    "  print(\"Pivot = \" + str(arr[small + 1]))\n",
    "  printArray(arr)\n",
    "  return small + 1\n",
    "\n",
    "\n",
    "def swap(arr, i, j):\n",
    "  arr[i], arr[j] = arr[j], arr[i]\n",
    "\n",
    "arr = [9, 4, 8, 3, 1, 2, 5]\n",
    "printArray(arr)\n",
    "quicksort(arr, 0, len(arr) - 1)"
   ]
  },
  {
   "cell_type": "code",
   "execution_count": null,
   "metadata": {},
   "outputs": [],
   "source": [
    "#=======================================================================\n",
    "#  Author: Isai Damier\n",
    "#  Title: QuickSort\n",
    "#  Project: geekviewpoint\n",
    "#  Package: algorithm.sorting\n",
    "#\n",
    "#  Statement: Given a disordered list of integers (or any other items),\n",
    "#  rearrange the integers in natural order.\n",
    "#\n",
    "#  Sample Input: [8,5,3,1,9,6,0,7,4,2]\n",
    "#\n",
    "#  Sample Output: [0,1,2,3,4,5,6,7,8,9]\n",
    "#\n",
    "#  Time Complexity of Solution:\n",
    "#  Best = Average = O(nlog(n)); Worst = O(n^2).\n",
    "#\n",
    "#  Approach:\n",
    "#  Quicksort is admirably known as the algorithm that sorts an array\n",
    "#  while preparing to sort it. For contrast, recall that merge sort\n",
    "#  first partitions an array into smaller pieces, then sorts each piece,\n",
    "#  then merge the pieces back. Quicksort actually sorts the array\n",
    "#  during the partition phase.\n",
    "#\n",
    "#  Quicksort works by selecting an element called a pivot and splitting\n",
    "#  the array around that pivot such that all the elements in, say, the\n",
    "#  left sub-array are less than pivot and all the elements in the right\n",
    "#  sub-array are greater than pivot. The splitting continues until the\n",
    "#  array can no longer be broken into pieces. That's it. Quicksort is\n",
    "#    done.\n",
    "#\n",
    "#  All this fussing about quicksort sorting while preparing to sort\n",
    "#  may give the impression that it is better than mergesort, but its\n",
    "#  not. In practice their time complexity is about the same -- with\n",
    "#  one funny exception. Because quicksort picks its pivot randomly,\n",
    "#  there is a practically impossible possibility that the algorithm\n",
    "#    may take O(n^2) to compute.\n",
    "#\n",
    "#  The aforementioned notwithstanding, quicksort is better than\n",
    "#    mergesort if you consider memory usage. Quicksort is an in-place\n",
    "#    algorithm, requiring no additional storage to work.\n",
    "#======================================================================= \n",
    "import random\n",
    " \n",
    "def quicksort( aList ):\n",
    "    _quicksort( aList, 0, len( aList ) - 1 )\n",
    " \n",
    "def _quicksort( aList, first, last ):\n",
    "    if first < last:\n",
    "      pivot = partition( aList, first, last )\n",
    "      _quicksort( aList, first, pivot - 1 )\n",
    "      _quicksort( aList, pivot + 1, last )\n",
    " \n",
    " \n",
    "def partition( aList, first, last ) :\n",
    "    pivot = first + random.randrange( last - first + 1 )\n",
    "    swap( aList, pivot, last )\n",
    "    for i in range( first, last ):\n",
    "      if aList[i] <= aList[last]:\n",
    "        swap( aList, i, first )\n",
    "        first += 1\n",
    " \n",
    "    swap( aList, first, last )\n",
    "    return first\n",
    " \n",
    " \n",
    "def swap( A, x, y ):\n",
    "  A[x],A[y]=A[y],A[x]"
   ]
  },
  {
   "cell_type": "code",
   "execution_count": null,
   "metadata": {},
   "outputs": [],
   "source": [
    "def quickSort(arr):\n",
    "    _quickSort(arr,0,len(arr)-1)\n",
    "\n",
    "def _quickSort(arr,l,h):\n",
    "    if l < h:\n",
    "        pivot = partation(arr,l,h)\n",
    "        _quickSort(arr,l,pivot-1)\n",
    "        _quickSort(arr,pivot+1,h)\n",
    "\n",
    "def partation(arr,l,h):\n",
    "    pivot = arr[h]\n",
    "    smaller = l\n",
    "    for i in range(l,h):\n",
    "        if arr[i] <= pivot:\n",
    "            arr[i],arr[smaller] = arr[smaller],arr[i]\n",
    "            smaller += 1\n",
    "    arr[smaller],arr[h] = arr[h],arr[smaller]\n",
    "    return smaller\n",
    "arr = [9, 4, 8, 3, 1, 2, 5]\n",
    "printArray(arr)\n",
    "quickSort(arr)\n",
    "arr"
   ]
  },
  {
   "cell_type": "code",
   "execution_count": null,
   "metadata": {},
   "outputs": [],
   "source": [
    "def dutch_flag_partition(pivot_index, A):\n",
    "    pivot = A[pivot_index]\n",
    "    # 将小于部分从左到右排列\n",
    "    for i in range(len(A)):\n",
    "        for j in range(i+1,len(A)):\n",
    "            if A[j] < pivot:\n",
    "                A[j],A[i] = A[i],A[j]\n",
    "                break\n",
    "    # 将大于部分从右到左排列\n",
    "    for i in reversed(range(len(A))):\n",
    "        if pivot > A[i]:\n",
    "            break\n",
    "        for j in reversed(range(len(i))):\n",
    "            if A[j] > pivot:\n",
    "                A[i],A[j] = A[j],A[i]\n",
    "                break"
   ]
  },
  {
   "cell_type": "code",
   "execution_count": null,
   "metadata": {},
   "outputs": [],
   "source": []
  },
  {
   "cell_type": "code",
   "execution_count": null,
   "metadata": {},
   "outputs": [],
   "source": [
    "# 优化：每次都重头开始找，没有必要\n",
    "# we make a single pass and move all the elements less than the pivot to the beginning. \n",
    "def dutch_flag_partition_2(pivot_index, A):\n",
    "    pivot = A[pivot_index]\n",
    "    # 记录当前最小部分的右边位置，循环一轮即可\n",
    "    smaller = 0\n",
    "    for i in range(len(A)):\n",
    "        if A[i] < pivot:\n",
    "            A[i],A[smaller] = A[smaller],A[i]\n",
    "            smaller += 1\n",
    "    # 记录当前最大部分的左边位置，循环一轮即可\n",
    "    larger = len(A)\n",
    "    for i in reversed(range(len(A))):\n",
    "        if A[i] < pivot: \n",
    "            break\n",
    "        if A[i] > pivot:\n",
    "            A[i],A[larger] = A[larger],A[i]\n",
    "            larger -= 1"
   ]
  },
  {
   "cell_type": "code",
   "execution_count": null,
   "metadata": {},
   "outputs": [],
   "source": []
  },
  {
   "cell_type": "code",
   "execution_count": null,
   "metadata": {},
   "outputs": [],
   "source": [
    "\n",
    "def dutch_flag_partition3(pivot_index, A):\n",
    "    pivot = pivot_index\n",
    "    # Keep the following invariants during partitioning:\n",
    "    # botton group: A[:smallerJ.\n",
    "    # middle group: lfsnal]er:equal.\n",
    "    # unclassified group: A[equal: Targer] .\n",
    "    # top group: A[larger:] .\n",
    "    smaller, equal, larger = 0, 0, len(A)\n",
    "    # Keep iterating as -Iong as there is an unclassified elenent while equal < larger:\n",
    "    # A[equa7] is the inconing unclassjfied element, \n",
    "    if A[equal] < pivot:\n",
    "        A[smaller], A[equal] = A[equal], A[smaller]\n",
    "        smaller , equal = smaller + 1, equal + 1 \n",
    "    elif A[equal] == pivot:\n",
    "        equal += 1\n",
    "    else: # A[equal] > pivot.\n",
    "        larger -= 1\n",
    "        A[equal], A[larger] = A[larger], A[equal]"
   ]
  },
  {
   "cell_type": "markdown",
   "metadata": {},
   "source": [
    "##### Variant 1\n",
    "\n",
    "Assuming that keys take one of three values, reorder the array to that all objects with the same key appear together. The order of the subarrays is not impoartant. Use O(1) space and O(n) time."
   ]
  },
  {
   "cell_type": "code",
   "execution_count": null,
   "metadata": {},
   "outputs": [],
   "source": [
    "# 25mins\n",
    "def reorder(arr):\n",
    "    def _reorder(arr,index):\n",
    "        if index < len(arr):\n",
    "            value = arr[index]\n",
    "            for i in range(index,len(arr)):\n",
    "                if arr[i] == value:\n",
    "                    arr[i],arr[index] = arr[index],arr[i]\n",
    "                    index += 1\n",
    "            return _reorder(arr,index)\n",
    "    _reorder(arr,0)"
   ]
  },
  {
   "cell_type": "code",
   "execution_count": null,
   "metadata": {},
   "outputs": [],
   "source": [
    "A = [1,2,3,4,1,3,4,1,4,4]\n",
    "A"
   ]
  },
  {
   "cell_type": "code",
   "execution_count": null,
   "metadata": {},
   "outputs": [],
   "source": [
    "reorder(A)\n",
    "A"
   ]
  },
  {
   "cell_type": "code",
   "execution_count": null,
   "metadata": {},
   "outputs": [],
   "source": []
  },
  {
   "cell_type": "code",
   "execution_count": null,
   "metadata": {},
   "outputs": [],
   "source": [
    "# # 25min mis\n",
    "# def reorder4(A, values):\n",
    "#     a,b = -1, -1\n",
    "#     c,d = len(A), len(A)\n",
    "#     index = 0\n",
    "    \n",
    "#     for i in range(0,len(A)):\n",
    "#         if b < c:\n",
    "#             v = values.index(A[i])\n",
    "#             # a\n",
    "#             if v == 1: \n",
    "#                 a += 1\n",
    "#                 A[i],A[a] = A[a],A[i]\n",
    "#                 index += 1\n",
    "#             if v == 2: \n",
    "#                 index += 1\n",
    "#             if v == 3: \n",
    "#                 A[i],A[c] = A[c],A[i]\n",
    "#                 c -= 1\n",
    "#             if v == 4:\n",
    "#                 A[c],A[d] = A[d],A[c]\n",
    "#                 A[index],A[d] = A[d],A[index]\n",
    "#                 c -= 1\n",
    "#                 d -= 1\n",
    "#             print(A)"
   ]
  },
  {
   "cell_type": "code",
   "execution_count": null,
   "metadata": {},
   "outputs": [],
   "source": [
    "l = [1,2,3,4,1,1,3,2]\n",
    "\n",
    "values = [1,2,3,4]\n",
    "reorder4(l,values)"
   ]
  },
  {
   "cell_type": "markdown",
   "metadata": {},
   "source": [
    "ab                  cd\n",
    "1, 2, 1, 4, 1, 1, 3, 2\n",
    "i\n",
    "\n",
    "ab                  cd\n",
    "1, 2, 1, 4, 1, 1, 3, 2\n",
    "i\n",
    "\n",
    "b  a                cd\n",
    "1, 2, 1, 4, 1, 1, 3, 2\n",
    "   i\n",
    "    \n",
    "\n",
    "b  a                cd\n",
    "1, 2, 3, 4, 1, 1, 3, 2\n",
    "   i\n"
   ]
  },
  {
   "cell_type": "code",
   "execution_count": null,
   "metadata": {},
   "outputs": [],
   "source": [
    "def dutchPartition(array,leftValue1 ,leftValue2, rightValue1):\n",
    "    (left1, left2, right1,right2) = (0,0,len(array)-1,len(array)-1)\n",
    "    while left2 <= right2:\n",
    "        if array[left2] == leftValue1:\n",
    "            array[left1],array[left2] = array[left2],array[left1]\n",
    "            left1 += 1\n",
    "            left2 += 1\n",
    "        elif array[left2] == leftValue2:\n",
    "            left2 += 1\n",
    "            \n",
    "        elif array[left2] == rightValue1:\n",
    "            array[right1],array[right2] = array[right2],array[right1]\n",
    "            array[left2],array[right1] = array[right1],array[left2]\n",
    "            right1 -= 1\n",
    "            right2 -= 1   \n",
    "        else:\n",
    "            array[left2],array[right2] = array[right2],array[left2]\n",
    "            right2 -= 1\n",
    "    return array\n",
    "\n",
    "if __name__ == \"__main__\":\n",
    "    array = [2, 1, 2, 3, 0, 0, 1, 3, 2, 2, 2, 3, 1, 0, 0, 1, 2, 0, 1, 3]\n",
    "    array2 = dutchPartition(array,1,2,0)\n",
    "    print(array2)"
   ]
  },
  {
   "cell_type": "markdown",
   "metadata": {},
   "source": [
    "讨论：\n",
    "一个方法就是我想的那样，将其分为左边两个指针和右边两个指针。\n",
    "然后，分为四种情况，对数组进行调整。\n",
    "\n",
    "另外的方法：\n",
    "\n",
    "可以传入中间值，然后用之前的方法dutch_flag_partition，分为\n",
    "\n",
    "a,b,[包含c,d的array]\n",
    "\n",
    "然后再对[c,d]进行排列。"
   ]
  },
  {
   "cell_type": "markdown",
   "metadata": {},
   "source": [
    "#### 5.6 Buy and Sell a Stock once"
   ]
  },
  {
   "cell_type": "markdown",
   "metadata": {},
   "source": [
    "<310,315,275,295,260,270,290,230,255,250>\n",
    "\n",
    "290-260=30"
   ]
  },
  {
   "cell_type": "code",
   "execution_count": null,
   "metadata": {},
   "outputs": [],
   "source": [
    "# Focus on valid differences.\n",
    "def buy_and_sell_stock_once(prices):\n",
    "    min_price_so_far = float['inf']\n",
    "    max_profit = 0.0\n",
    "    for price in prices:\n",
    "        profit = price - min_price_so_far\n",
    "        max_profit = max(max_profit, profit)\n",
    "        min_price_so_far = max(min_price_so_far, price)\n",
    "    return max_profit"
   ]
  },
  {
   "cell_type": "markdown",
   "metadata": {},
   "source": [
    "## Chapter 5 Strings"
   ]
  },
  {
   "cell_type": "markdown",
   "metadata": {},
   "source": [
    "- basic operations on strings such as comparison, copying joining, splitting, matching\n",
    "- Advanced string processing algorithms often use **hash tables (Chapter 12)** and **dynamic programming (Page 234)**."
   ]
  },
  {
   "cell_type": "markdown",
   "metadata": {},
   "source": [
    "### Strings boot camp"
   ]
  },
  {
   "cell_type": "code",
   "execution_count": null,
   "metadata": {},
   "outputs": [],
   "source": [
    "# A palindromic string is one which reads the same when it is reversed. \n",
    "# Rather than creating a new string for the reverse of the input string, \n",
    "# it traverses the input string forwards and backwards, thereby saving space. \n",
    "# Notice how it uniformly handles even and odd length strings.\n",
    "\n",
    "def is_palindromic(s):\n",
    "    # Note that s[~iJ for i in [0,len(s) - 1] is s[-(i + t)]\n",
    "    return all(s[i] == s[~i] for i in range(len(s) // 2))"
   ]
  },
  {
   "cell_type": "code",
   "execution_count": null,
   "metadata": {},
   "outputs": [],
   "source": [
    "all?"
   ]
  },
  {
   "cell_type": "code",
   "execution_count": null,
   "metadata": {},
   "outputs": [],
   "source": [
    "all(i for i in [1,0,1,1,1])"
   ]
  },
  {
   "cell_type": "code",
   "execution_count": null,
   "metadata": {},
   "outputs": [],
   "source": [
    "all(i for i in [1,1,1,1,1])"
   ]
  },
  {
   "cell_type": "markdown",
   "metadata": {},
   "source": [
    "### Know your sting libraries"
   ]
  },
  {
   "cell_type": "code",
   "execution_count": null,
   "metadata": {},
   "outputs": [],
   "source": [
    "s = \"HelloWorld\"\n",
    "t = \"NiceToMeetYou\""
   ]
  },
  {
   "cell_type": "code",
   "execution_count": null,
   "metadata": {},
   "outputs": [],
   "source": [
    "s[3]"
   ]
  },
  {
   "cell_type": "code",
   "execution_count": null,
   "metadata": {},
   "outputs": [],
   "source": [
    "len(s)"
   ]
  },
  {
   "cell_type": "code",
   "execution_count": null,
   "metadata": {},
   "outputs": [],
   "source": [
    "print(s + t)\n",
    "print(s[2:4])"
   ]
  },
  {
   "cell_type": "code",
   "execution_count": null,
   "metadata": {},
   "outputs": [],
   "source": [
    "s in t"
   ]
  },
  {
   "cell_type": "code",
   "execution_count": null,
   "metadata": {},
   "outputs": [],
   "source": [
    "s = \"HelloWorld   \"\n",
    "s"
   ]
  },
  {
   "cell_type": "code",
   "execution_count": null,
   "metadata": {},
   "outputs": [],
   "source": [
    "s = s.strip()"
   ]
  },
  {
   "cell_type": "code",
   "execution_count": null,
   "metadata": {},
   "outputs": [],
   "source": [
    "s"
   ]
  },
  {
   "cell_type": "code",
   "execution_count": null,
   "metadata": {},
   "outputs": [],
   "source": [
    "prefix = \"Hel\"\n",
    "s.startswith(prefix)"
   ]
  },
  {
   "cell_type": "code",
   "execution_count": null,
   "metadata": {},
   "outputs": [],
   "source": [
    "suffix = \"ddd\"\n",
    "s.endswith(suffix)"
   ]
  },
  {
   "cell_type": "code",
   "execution_count": null,
   "metadata": {},
   "outputs": [],
   "source": [
    "\"Hello,World,YOU,XIN,YU\".split(\",\")"
   ]
  },
  {
   "cell_type": "code",
   "execution_count": null,
   "metadata": {},
   "outputs": [],
   "source": [
    "\",\".join((\"NICE\",\"TO\",\"MEET\",\"YOU\"))"
   ]
  },
  {
   "cell_type": "code",
   "execution_count": null,
   "metadata": {},
   "outputs": [],
   "source": [
    "s.lower()"
   ]
  },
  {
   "cell_type": "code",
   "execution_count": null,
   "metadata": {},
   "outputs": [],
   "source": [
    "\"My name is {name}, I am {age} years old\".format(name=\"YouXinyu\", age=23)"
   ]
  },
  {
   "cell_type": "markdown",
   "metadata": {},
   "source": [
    "It's important to remember that strings are **immutable-operations**\n",
    "\n",
    "like s = s[1:] or s += ' 123' \n",
    "\n",
    "Imply creating a new array of characters that is then assigned back to s.\n",
    "\n",
    "Concatenating a single character n times to a string in a for loop has $O(n^2)$ times complexity."
   ]
  },
  {
   "cell_type": "markdown",
   "metadata": {},
   "source": [
    "- reduce space complexity to O(1).\n",
    "- Know alternatives to immutable strings,\n",
    "- see if it's possible to write values from the back."
   ]
  },
  {
   "cell_type": "markdown",
   "metadata": {},
   "source": [
    "### 6.1 Interconvert string and integers"
   ]
  },
  {
   "cell_type": "markdown",
   "metadata": {},
   "source": [
    "date: 5-10\n",
    "\n",
    "\n",
    "Example:\n",
    "\n",
    "String to Integer\n",
    "\n",
    "\"123\" -> 123\n",
    "\n",
    "\n",
    "Integer to String\n",
    "\n",
    "-123 -> \"-123\""
   ]
  },
  {
   "cell_type": "code",
   "execution_count": null,
   "metadata": {},
   "outputs": [],
   "source": [
    "def charToNum(c):\n",
    "    convert =  {\n",
    "        \"0\":0,\n",
    "        \"1\":1,\n",
    "        \"2\":2,\n",
    "        \"3\":3,\n",
    "        \"4\":4,\n",
    "        \"5\":5,\n",
    "        \"6\":6,\n",
    "        \"7\":7,\n",
    "        \"8\":8,\n",
    "        \"9\":9,\n",
    "    }\n",
    "    return convert[c]\n",
    "\n",
    "\n",
    "def convertStringToNum(s):\n",
    "    if not s: return\n",
    "    negative = False\n",
    "    if s[0] == '-':\n",
    "        negative = true\n",
    "        s = s[1:]\n",
    "    \n",
    "    num = 0\n",
    "    for n,i in enumerate(reversed(s)):\n",
    "        print(type(n))\n",
    "        print(type(i))\n",
    "        print(n,i)\n",
    "#         n = charToNum(n)\n",
    "#         num += n * i * 10\n",
    "    \n",
    "    if negative:\n",
    "        num = - num\n",
    "    \n",
    "    return num"
   ]
  },
  {
   "cell_type": "code",
   "execution_count": null,
   "metadata": {},
   "outputs": [],
   "source": [
    "convertStringToNum(\"123\")"
   ]
  },
  {
   "cell_type": "code",
   "execution_count": null,
   "metadata": {},
   "outputs": [],
   "source": [
    "def charToNum(c):\n",
    "    convert =  {\n",
    "        \"0\":0,\n",
    "        \"1\":1,\n",
    "        \"2\":2,\n",
    "        \"3\":3,\n",
    "        \"4\":4,\n",
    "        \"5\":5,\n",
    "        \"6\":6,\n",
    "        \"7\":7,\n",
    "        \"8\":8,\n",
    "        \"9\":9,\n",
    "    }\n",
    "    return convert[c]\n",
    "\n",
    "\n",
    "def convertStringToNum(s):\n",
    "    if not s: return\n",
    "    \n",
    "    # 判断正负\n",
    "    negative = False\n",
    "    if s[0] == '-':\n",
    "        negative = True\n",
    "        s = s[1:]\n",
    "    \n",
    "    # 转换\n",
    "    num = 0\n",
    "    # reversed: value and index is reversed too.\n",
    "    # 反着转，低位对应的顺序index，好计算\n",
    "    for i,n in enumerate(reversed(s)):\n",
    "        # 1. char to int\n",
    "        n = charToNum(n)\n",
    "        if i == 0: \n",
    "            # 2. 第一位直接加\n",
    "            num += n\n",
    "        else: \n",
    "            # 3. 后面位\n",
    "            num += n * 10 ** i\n",
    "    # 添加符号\n",
    "    if negative:\n",
    "        num = -num\n",
    "    \n",
    "    return num"
   ]
  },
  {
   "cell_type": "code",
   "execution_count": null,
   "metadata": {},
   "outputs": [],
   "source": [
    "convertStringToNum(\"123\")"
   ]
  },
  {
   "cell_type": "code",
   "execution_count": null,
   "metadata": {},
   "outputs": [],
   "source": [
    "convertStringToNum(\"-123\")"
   ]
  },
  {
   "cell_type": "code",
   "execution_count": null,
   "metadata": {},
   "outputs": [],
   "source": [
    "convertStringToNum(\"0\")"
   ]
  },
  {
   "cell_type": "code",
   "execution_count": null,
   "metadata": {},
   "outputs": [],
   "source": [
    "convertStringToNum(\"-32842390907382\")"
   ]
  },
  {
   "cell_type": "code",
   "execution_count": null,
   "metadata": {},
   "outputs": [],
   "source": [
    "#1.strip()：把头和尾的空格去掉\n",
    "#2.lstrip()：把左边的空格去掉\n",
    "#3.rstrip()：把右边的空格去掉\n",
    "s = ' 123'\n",
    "s = s.strip()\n",
    "s"
   ]
  },
  {
   "cell_type": "code",
   "execution_count": null,
   "metadata": {},
   "outputs": [],
   "source": [
    "print(0%10)"
   ]
  },
  {
   "cell_type": "code",
   "execution_count": null,
   "metadata": {},
   "outputs": [],
   "source": [
    "'''\n",
    "interconversion.py\n",
    "Test FAILED (  291/10001) Int to string conversion failed\n",
    "Arguments\n",
    "        x: 0\n",
    "        s: 0\n",
    "\n",
    "Failure info\n",
    "\n",
    "Average running time:    8 us\n",
    "Median running time:     8 us\n",
    "*** You've passed 290/10001 tests. ***\n",
    "'''\n",
    "def numToChar(c):\n",
    "    convert =  {\n",
    "        0:\"0\",\n",
    "        1:\"1\",\n",
    "        2:\"2\",\n",
    "        3:\"3\",\n",
    "        4:\"4\",\n",
    "        5:\"5\",\n",
    "        6:\"6\",\n",
    "        7:\"7\",\n",
    "        8:\"8\",\n",
    "        9:\"9\"\n",
    "    }\n",
    "    return convert[c]\n",
    "\n",
    "def convertNumToString(num):\n",
    "    if not num: return\n",
    "    if num == 0: \n",
    "        return numToChar(num)\n",
    "    \n",
    "    # 判断正负\n",
    "    negative = False\n",
    "    if num < 0:\n",
    "        negative = True\n",
    "        num = abs(num)\n",
    "        \n",
    "    s = \"\"\n",
    "    while num:\n",
    "        r = num % 10\n",
    "        s += (numToChar(r))\n",
    "        #### 问题\n",
    "#         num = (num - r)/10\n",
    "        num //= 10\n",
    "        \n",
    "    if negative:\n",
    "        s += \"-\"\n",
    "    \n",
    "    s = s[::-1]\n",
    "    return s"
   ]
  },
  {
   "cell_type": "code",
   "execution_count": null,
   "metadata": {},
   "outputs": [],
   "source": [
    "convertNumToString(-246688073)"
   ]
  },
  {
   "cell_type": "markdown",
   "metadata": {},
   "source": [
    "TEST\n",
    "\n",
    "123\n",
    "\n",
    "r = 123 % 10 = 3\n",
    "num = 12\n",
    "\n",
    "r = 12 % 10 = 2\n",
    "num = (12 -2)/10 = 1\n",
    "\n",
    "r = 1%10 = 1\n",
    "num = 0\n",
    "\n",
    "\n",
    "0 -> \"0\""
   ]
  },
  {
   "cell_type": "code",
   "execution_count": null,
   "metadata": {},
   "outputs": [],
   "source": [
    "# intToChar\n",
    "num = 4\n",
    "chr(ord('0') + num)"
   ]
  },
  {
   "cell_type": "code",
   "execution_count": null,
   "metadata": {},
   "outputs": [],
   "source": [
    "import string\n",
    "def string_to_int(s):\n",
    "    return functools.reduce(\n",
    "        lambda running_sum, c: running_sum * 10 + string.digits.index(c),\n",
    "        s[s[0] == '-':], 0) * (-1 if s[0] == '-' else 1)"
   ]
  },
  {
   "cell_type": "code",
   "execution_count": null,
   "metadata": {},
   "outputs": [],
   "source": [
    "string_to_int('-1233')"
   ]
  },
  {
   "cell_type": "code",
   "execution_count": null,
   "metadata": {},
   "outputs": [],
   "source": [
    "def int_to_string(x):\n",
    "\n",
    "    is_negative = False\n",
    "    if x < 0:\n",
    "        x, is_negative = -x, True\n",
    "\n",
    "    s = []\n",
    "    while True:\n",
    "        s.append(chr(ord('0') + x % 10))\n",
    "        x //= 10\n",
    "        if x == 0:\n",
    "            break\n",
    "\n",
    "    # Adds the negative sign back if is_negative\n",
    "    return ('-' if is_negative else '') + ''.join(reversed(s))"
   ]
  },
  {
   "cell_type": "code",
   "execution_count": null,
   "metadata": {},
   "outputs": [],
   "source": [
    "int_to_string(123)"
   ]
  },
  {
   "cell_type": "code",
   "execution_count": null,
   "metadata": {},
   "outputs": [],
   "source": [
    "a = 198\n",
    "a = a//10\n",
    "a"
   ]
  },
  {
   "cell_type": "code",
   "execution_count": null,
   "metadata": {},
   "outputs": [],
   "source": [
    "string.digits.index?"
   ]
  },
  {
   "cell_type": "code",
   "execution_count": null,
   "metadata": {},
   "outputs": [],
   "source": [
    "if not 0:\n",
    "    print(\"hjjj\")"
   ]
  },
  {
   "cell_type": "markdown",
   "metadata": {},
   "source": [
    "## Chapter 7 Linked List"
   ]
  },
  {
   "cell_type": "markdown",
   "metadata": {},
   "source": [
    "Sepcifically, a singly linked list is a data structure that contains a sequence of nodes such that each node contains an object and a reference to the next node in the list."
   ]
  },
  {
   "cell_type": "code",
   "execution_count": null,
   "metadata": {},
   "outputs": [],
   "source": []
  },
  {
   "cell_type": "markdown",
   "metadata": {},
   "source": [
    "A list is similar to an array in that it contains objects in a linear order.\n",
    "- inserting and deleting elements in a list has time complexity O(1).\n",
    "- On the other hand, obtaining the kth element in a list is expensive, having O(n) time complexity."
   ]
  },
  {
   "cell_type": "code",
   "execution_count": null,
   "metadata": {},
   "outputs": [],
   "source": [
    "# 10-11\n",
    "def ListNode():\n",
    "    def __init__(self, data=0, next_node=None):\n",
    "        self.data = data\n",
    "        self.next = next_node"
   ]
  },
  {
   "cell_type": "markdown",
   "metadata": {},
   "source": [
    "### Linked lists boot camp\n",
    "Two type:\n",
    "1. Implement your own list\n",
    "2. exploit the standard list library"
   ]
  },
  {
   "cell_type": "markdown",
   "metadata": {},
   "source": [
    "Implementing a basic list APl-search, insert, delete-for singly linked lists is an excellent way to become comfortable with lists."
   ]
  },
  {
   "cell_type": "code",
   "execution_count": null,
   "metadata": {},
   "outputs": [],
   "source": [
    "class ListNode():\n",
    "    def __init__(self, data=0, next_node=None):\n",
    "        self.data = data\n",
    "        self.next = next_node\n",
    "\n",
    "# search for a key\n",
    "def search_list(L,key):\n",
    "    while L and L.data!=key:\n",
    "        L = L.next\n",
    "    return L\n",
    "\n",
    "# insert new_node after node.\n",
    "def insert(node, new_node):\n",
    "    new_node.next = node.next\n",
    "    node.next = new_node\n",
    "    \n",
    "# delect the node past this node. Assume node is not a tail.\n",
    "def delect_after(node):\n",
    "    node.next = node.next.next\n",
    "\n"
   ]
  },
  {
   "cell_type": "markdown",
   "metadata": {},
   "source": [
    "### Tips\n",
    "- Insert and delete: O(1) time complexity. Search: O(n)\n",
    "- cleanly coding what's specified\n",
    "- Consider using a **dummy head** (sometimes referred to as a sentinel) to avoid having to check for empty lists. This simplifies code, and makes bugs less likely.\n",
    "- It's easy to forget to **update next** (and previous for double linked list) for the head and tail.\n",
    "- Algorithms operating on singly linked lists often benefit from **using two iterators**, one **ahead of the another**, or **one advancing quicker** than the other."
   ]
  },
  {
   "cell_type": "markdown",
   "metadata": {},
   "source": [
    "#### Know your linked list libraries"
   ]
  },
  {
   "cell_type": "code",
   "execution_count": null,
   "metadata": {},
   "outputs": [],
   "source": [
    "# 10-11\n",
    "class ListNode():\n",
    "    def __init__(self, data=0, next_node=None):\n",
    "        self.data = data\n",
    "        self.next = next_node\n",
    "#     def __repr__(self):\n",
    "#         return str(self.data) + str(' ') str(self.next.data)\n",
    "\n",
    "### 7.1 merge two sorted lists\n",
    "def mergeTwoSortedList(L1,L2):\n",
    "    # Q1: head初始为0，后面没有修改，所以返回也是0\n",
    "    # A1: 返回 head.next\n",
    "    # dummy-head\n",
    "    head = ListNode()\n",
    "    # tail\n",
    "    cur = head\n",
    "    \n",
    "    while L1 and L2:\n",
    "        if L1.data > L2.data:\n",
    "            cur.next = L2\n",
    "            L2 = L2.next\n",
    "        else:\n",
    "            cur.next = L1\n",
    "            L1 = L1.next\n",
    "        cur = cur.next\n",
    "       \n",
    "    # 应该是L1, 而不是L.next吧？\n",
    "#     if L1:\n",
    "#         cur.next = L1\n",
    "#     if L2:\n",
    "#         cur.next = L2\n",
    "    cur.next = L1 or L2\n",
    "\n",
    "    return head.next\n",
    "\n",
    "# time complexity: O(n + m)\n",
    "# space complexity: O(1)\n",
    "\n",
    "# improve: do not use a new linked list"
   ]
  },
  {
   "cell_type": "code",
   "execution_count": null,
   "metadata": {},
   "outputs": [],
   "source": [
    "# L1 = ListNode(1,ListNode(3,ListNode(4,None)))\n",
    "\n",
    "L1 = ListNode(1,None)\n",
    "node1 = ListNode(5,None)\n",
    "node2 = ListNode(8,None)\n",
    "\n",
    "L1.next = node1\n",
    "node1.next = node2\n",
    "\n",
    "L2 = ListNode(2,None)\n",
    "node3 = ListNode(4,None)\n",
    "node4 = ListNode(9,None)\n",
    "\n",
    "L2.next = node3\n",
    "node3.next = node4"
   ]
  },
  {
   "cell_type": "code",
   "execution_count": null,
   "metadata": {},
   "outputs": [],
   "source": [
    "L3 = mergeTwoSortedList(L1,L2)\n",
    "while L3:\n",
    "    print(L3.data)\n",
    "    L3 = L3.next"
   ]
  },
  {
   "cell_type": "markdown",
   "metadata": {},
   "source": [
    "总结一下：\n",
    "1. 一开始写的时候，没有意识到如果没有下一个next时，是不能调用next的。\n",
    "2. 初始化的head，其实值一直为0，它只是一个dummy head，所以要返回head.next。\n",
    "3. 每一次只需要赋值L1或者L2即可，因为是排好顺序的。\n",
    "4. 其中一个有就赋值的简洁写法：cur.next = L1 or L2。"
   ]
  },
  {
   "cell_type": "markdown",
   "metadata": {},
   "source": [
    "---------------------------------------------------------------------------\n",
    "AttributeError                            Traceback (most recent call last)\n",
    "<ipython-input-21-21c4f69a27cb> in <module>()\n",
    "----> 1 L3 = mergeTwoSortedList(L1,L2)\n",
    "\n",
    "<ipython-input-17-235ae3a336b1> in mergeTwoSortedList(L1, L2)\n",
    "     21     # 应该是L1, 而不是L.next吧？\n",
    "     22     if L1:\n",
    "---> 23         head.next = L1\n",
    "     24     if L2:\n",
    "     25         head.next = L2\n",
    "\n",
    "AttributeError: 'NoneType' object has no attribute 'next'"
   ]
  },
  {
   "cell_type": "markdown",
   "metadata": {},
   "source": [
    "## 8.1 Stack and Queues\n",
    "5-12 "
   ]
  },
  {
   "cell_type": "markdown",
   "metadata": {},
   "source": [
    "- Stack: push and pop. LIFO.\n",
    "    - useful for creating reverse iterators\n",
    "    - peek\n",
    "- Queue: FIFO."
   ]
  },
  {
   "cell_type": "code",
   "execution_count": null,
   "metadata": {},
   "outputs": [],
   "source": [
    "def print_linked_list_in_reverse(head):\n",
    "    nodes = []\n",
    "    while head:\n",
    "        nodes.append(head.data)\n",
    "        head = head.next\n",
    "    while nodes:\n",
    "        print(nodes.pop())\n",
    "# The time and space complexity are O(n), \n",
    "# where n is the number of nodes in the list."
   ]
  },
  {
   "cell_type": "markdown",
   "metadata": {},
   "source": [
    "- Learn to recognrze LIFO property is applicable. For benefits from a stack.\n",
    "- Consider augmenting the basic stack or queue data structure to support additional operations, such as finding the maximum element."
   ]
  },
  {
   "cell_type": "markdown",
   "metadata": {},
   "source": [
    "Use basic list-type\n",
    "\n",
    "- **s.append(e)** pushes an element onto the stack. Not much can go wrong with a call to push. \n",
    "- **s[-1]** will retrieve, but does not remove, the element at the top of the stack.\n",
    "- **s.pop()** will remove and retum the element at the top of the stack.\n",
    "- **len(s)** == 0 tests if the stack is empty."
   ]
  },
  {
   "cell_type": "markdown",
   "metadata": {},
   "source": [
    "#### 8.1 Implement a stack with Max API\n",
    "\n",
    "We can dramatically improve on the time complexity of popping by caching, in essence, trading time for space. \n",
    "\n",
    "Specifically, for each entry in the stack, we cache the maximum stored at or below that entry. Now when we pop, we evict the corresponding cached value.\n",
    "\n",
    "缓存每一个值所在的最大值。\n",
    "\n",
    "空间换时间。"
   ]
  },
  {
   "cell_type": "code",
   "execution_count": null,
   "metadata": {},
   "outputs": [],
   "source": [
    "import collections\n",
    "\n",
    "class Stack():\n",
    "    ElementWithCachedMax = collections.namedtuple('ElementWithCachedMax',\n",
    "                                                  ('element','max'))\n",
    "    def __init__(self):\n",
    "        self._element_with_cached_max = []\n",
    "    \n",
    "    def empty(self):\n",
    "        return len(self._element_with_cached_max) == 0\n",
    "    \n",
    "    def max(self):\n",
    "        if self.empty():\n",
    "            raise IndexError('max(): empty stack')\n",
    "        return self._element_with_cached_max[-1].max\n",
    "    \n",
    "    def pop(self):\n",
    "        if self.empty():\n",
    "            raise IndexError('pop(): empty stack')\n",
    "    \n",
    "    def push(self,x):\n",
    "        # Cache\n",
    "        self._element_with_cached_max.append(\n",
    "            self.ElementWithCachedMax(x,x if self.empty() else max(x,self.max()))        \n",
    "        )\n",
    "# time complexity O(1). \n",
    "# The additional space complexity is O(n)"
   ]
  },
  {
   "cell_type": "code",
   "execution_count": null,
   "metadata": {},
   "outputs": [],
   "source": [
    "collections.namedtuple?"
   ]
  },
  {
   "cell_type": "code",
   "execution_count": null,
   "metadata": {},
   "outputs": [],
   "source": [
    "# We can improve on the best-case space needed by observing that \n",
    "# if an element e being pushed is smaller than the maximum element\n",
    "# already in the stack, then e can never be the maximum."
   ]
  },
  {
   "cell_type": "markdown",
   "metadata": {},
   "source": [
    "## 9.1 Binary Trees"
   ]
  },
  {
   "cell_type": "code",
   "execution_count": 19,
   "metadata": {},
   "outputs": [],
   "source": [
    "# 5-13\n",
    "class BinaryTreeNode:\n",
    "    def __init__(self, data=None, left=None, right=None):\n",
    "        self.data = data\n",
    "        self.left = left\n",
    "        self.right = right"
   ]
  },
  {
   "cell_type": "markdown",
   "metadata": {},
   "source": [
    "- child\n",
    "- ancestor\n",
    "- descendant\n",
    "\n",
    "\n",
    "- **A full binary tree** is a binary tree in which every node other than the leaves has two children. \n",
    "- **A perfect binary tree** is a full binary tree in which all leaves are **at the same depth**, and in which every parent has two children. \n",
    "- **A complete binary tree** is a binary tree in which every level, except possibly the last, is completely filled, and all nodes are as far left as possible.\n",
    "\n",
    "A perfect binary tree of height $h$ contains exactly $2^{h+1} - 1$ nodes, of which $2^h$ are leaves. \n",
    "A complete binary tree on n nodes has height $llognl$,"
   ]
  },
  {
   "cell_type": "markdown",
   "metadata": {},
   "source": [
    "- Traverse the left subtree, visit the root, then traverse the right subtree (an inorder traversal).\n",
    "- Visit the root, traverse the left subtree, then traverse the right subtree (a preorder haversal).\n",
    "- Traverse the left subtree, traverse the right subtree, and then visit the root (a postorder traversal).\n",
    "\n",
    "Implemented recursively, these traversals have O(n) time complexity md O(h) additional space complexity. (The space complexity is dictated by the maximum depth of the function call stack.)"
   ]
  },
  {
   "cell_type": "code",
   "execution_count": 10,
   "metadata": {},
   "outputs": [],
   "source": [
    "# 关键是中间root在哪里打印。\n",
    "def tree_traversal(root):\n",
    "    if root:\n",
    "        # Pteorder: Processes the root before the traversals of \n",
    "        # Left and right children.\n",
    "        print('Preorder:%d' %root.data)\n",
    "        tree_traversal(root.left)\n",
    "        \n",
    "        # Inorder: Processes the root after the traversals of left child and \n",
    "        # before the traversals of right chiLd.\n",
    "        print('Inorder:%d' %root.data)\n",
    "        tree_traversal(root.right)\n",
    "        \n",
    "        # Postotder: Processes the root after the traversals of left and right \n",
    "        # children.\n",
    "        print('Postorder:%d' %root.data)"
   ]
  },
  {
   "cell_type": "code",
   "execution_count": 11,
   "metadata": {},
   "outputs": [
    {
     "data": {
      "text/plain": [
       "'\\n    1\\n2       3\\n'"
      ]
     },
     "execution_count": 11,
     "metadata": {},
     "output_type": "execute_result"
    }
   ],
   "source": [
    "root = BinaryTreeNode(1,None,None)\n",
    "left1 = BinaryTreeNode(2,None,None)\n",
    "right1 = BinaryTreeNode(3,None,None)\n",
    "\n",
    "root.left = left1\n",
    "root.right = right1\n",
    "\n",
    "'''\n",
    "    1\n",
    "2       3\n",
    "'''"
   ]
  },
  {
   "cell_type": "code",
   "execution_count": 12,
   "metadata": {},
   "outputs": [
    {
     "name": "stdout",
     "output_type": "stream",
     "text": [
      "Preorder:1\n",
      "Preorder:2\n",
      "Inorder:2\n",
      "Postorder:2\n",
      "Inorder:1\n",
      "Preorder:3\n",
      "Inorder:3\n",
      "Postorder:3\n",
      "Postorder:1\n"
     ]
    }
   ],
   "source": [
    "tree_traversal(root)"
   ]
  },
  {
   "cell_type": "code",
   "execution_count": 13,
   "metadata": {},
   "outputs": [],
   "source": [
    "def preorder_tree_traversal(root):\n",
    "    if root:\n",
    "        print('Preorder:%d' %root.data)\n",
    "        preorder_tree_traversal(root.left)\n",
    "        preorder_tree_traversal(root.right)"
   ]
  },
  {
   "cell_type": "code",
   "execution_count": 14,
   "metadata": {},
   "outputs": [
    {
     "name": "stdout",
     "output_type": "stream",
     "text": [
      "Preorder:1\n",
      "Preorder:2\n",
      "Preorder:3\n"
     ]
    }
   ],
   "source": [
    "preorder_tree_traversal(root)"
   ]
  },
  {
   "cell_type": "code",
   "execution_count": 15,
   "metadata": {},
   "outputs": [],
   "source": [
    "def inorder_tree_traversal(root):\n",
    "    if root:\n",
    "        inorder_tree_traversal(root.left)\n",
    "        print('Inorder:%d' %root.data)\n",
    "        inorder_tree_traversal(root.right)"
   ]
  },
  {
   "cell_type": "code",
   "execution_count": 16,
   "metadata": {},
   "outputs": [
    {
     "name": "stdout",
     "output_type": "stream",
     "text": [
      "Inorder:2\n",
      "Inorder:1\n",
      "Inorder:3\n"
     ]
    }
   ],
   "source": [
    "inorder_tree_traversal(root)"
   ]
  },
  {
   "cell_type": "code",
   "execution_count": 17,
   "metadata": {},
   "outputs": [],
   "source": [
    "def postorder_tree_traversal(root):\n",
    "    if root:\n",
    "        postorder_tree_traversal(root.left)\n",
    "        postorder_tree_traversal(root.right)\n",
    "        print('Postorder:%d' %root.data)"
   ]
  },
  {
   "cell_type": "code",
   "execution_count": 18,
   "metadata": {},
   "outputs": [
    {
     "name": "stdout",
     "output_type": "stream",
     "text": [
      "Postorder:2\n",
      "Postorder:3\n",
      "Postorder:1\n"
     ]
    }
   ],
   "source": [
    "postorder_tree_traversal(root)"
   ]
  },
  {
   "cell_type": "markdown",
   "metadata": {},
   "source": [
    "The time complexity of each approach is $O(n)$,where n is the number of nodes in the tree. Although no memory is explicitly allocated, the function call stack reaches a maximum depth of h, the height of the tree. Therefore, the space complexity is $O(h)$. The minimum value for $h$ is $log_n$ (complete binary tree) and the maxirnum value for $h$ is $n$ (skewed tree)."
   ]
  },
  {
   "cell_type": "markdown",
   "metadata": {},
   "source": [
    "### Tips\n",
    "- **Recursive algorithm** are well-suited to problems on trees. Remember to include space implicitly allocated on the **function call stack** when doing space complexity analysis. Please read the introduction to Chapter 15 if you need a refresher on recursion.\n",
    "- Some tree problems have simple brute-force solutions that use O(n) space,but subtler solutions that use the **existing tree nodes** to reduce space complexity to O(1).\n",
    "- Consider left- and right-skewed trees when doing complexity analysis. Note that O(h) com- plexity, where h is the tree height, translates into O(logn) complexity for balanced trees, but O(n) complexity for skewed trees.\n",
    "- If each node has a **parent field**, use it to make your code simpler, and to reduce time and space complexity.？？？\n",
    "- It's easy to make the mistake of treating a nodg th3!ha.s a single child as a leaf."
   ]
  },
  {
   "cell_type": "markdown",
   "metadata": {},
   "source": [
    "### 9.1 Test if a binary tree is height-balance\n",
    "A binary tree is said to be height-balanced if for each node in the tree, the difference in the height of its left and right subtrees is at most one. \n",
    "如果对于树中的每个节点，其左子树和右子树的高度之差最多为1，则称二叉树为高度平衡树。"
   ]
  },
  {
   "cell_type": "code",
   "execution_count": 30,
   "metadata": {},
   "outputs": [],
   "source": [
    "def caculateHeight(node):\n",
    "    if node:\n",
    "        h = max(caculateHeight(node.left)+1,caculateHeight(node.right)+1)\n",
    "        return h\n",
    "    else:\n",
    "        return 0\n",
    "\n",
    "def checkBalanceTree(node):\n",
    "    if node:\n",
    "        left_height = caculateHeight(node.left)\n",
    "        right_height = caculateHeight(node.right)\n",
    "        balanced = abs(left_height - right_height) <= 1\n",
    "        return balanced"
   ]
  },
  {
   "cell_type": "code",
   "execution_count": 31,
   "metadata": {},
   "outputs": [
    {
     "data": {
      "text/plain": [
       "False"
      ]
     },
     "execution_count": 31,
     "metadata": {},
     "output_type": "execute_result"
    }
   ],
   "source": [
    "root = BinaryTreeNode(1,None,None)\n",
    "left1 = BinaryTreeNode(2,None,None)\n",
    "right1 = BinaryTreeNode(3,None,None)\n",
    "\n",
    "root.left = left1\n",
    "root.right = right1\n",
    "\n",
    "left11 = BinaryTreeNode(4,None,None)\n",
    "left12 = BinaryTreeNode(5,None,None)\n",
    "left13 = BinaryTreeNode(4,None,None)\n",
    "\n",
    "left1.left = left11\n",
    "left11.left = left12\n",
    "left12.left = left13\n",
    "\n",
    "checkBalanceTree(root)"
   ]
  },
  {
   "cell_type": "code",
   "execution_count": 32,
   "metadata": {},
   "outputs": [],
   "source": [
    "# [\"-6\", \"-2\", \"0\", \"null\", \"8\", \"6\", \"null\", \"null\", \"9\"]"
   ]
  },
  {
   "cell_type": "code",
   "execution_count": 41,
   "metadata": {},
   "outputs": [],
   "source": [
    "def is_balanced_binary_tree(tree):\n",
    "\n",
    "    BalancedStatusWithHeight = collections.namedtuple(\n",
    "        'BalancedStatusWithHeight', ('balanced', 'height'))\n",
    "\n",
    "    # First value of the return value indicates if tree is balanced, and if\n",
    "    # balanced the second value of the return value is the height of tree.\n",
    "    def check_balanced(tree):\n",
    "        if not tree:\n",
    "            return BalancedStatusWithHeight(True, -1)  # Base case.\n",
    "\n",
    "        left_result = check_balanced(tree.left)\n",
    "        if not left_result.balanced:\n",
    "            # Left subtree is not balanced.\n",
    "            return BalancedStatusWithHeight(False, 0)\n",
    "\n",
    "        right_result = check_balanced(tree.right)\n",
    "        if not right_result.balanced:\n",
    "            # Right subtree is not balanced.\n",
    "            return BalancedStatusWithHeight(False, 0)\n",
    "\n",
    "        is_balanced = abs(left_result.height - right_result.height) <= 1\n",
    "        height = max(left_result.height, right_result.height) + 1\n",
    "        return BalancedStatusWithHeight(is_balanced, height)\n",
    "\n",
    "    return check_balanced(tree).balanced"
   ]
  },
  {
   "cell_type": "code",
   "execution_count": 42,
   "metadata": {},
   "outputs": [
    {
     "data": {
      "text/plain": [
       "False"
      ]
     },
     "execution_count": 42,
     "metadata": {},
     "output_type": "execute_result"
    }
   ],
   "source": [
    "is_balanced_binary_tree(root)"
   ]
  },
  {
   "cell_type": "markdown",
   "metadata": {},
   "source": [
    "## 10.1 Heap\n",
    "A heap is a specialized binary tree. Specifically, it is a complete binary tree as defined on Page 113. The keys must satisfy the heap property-the key at each node is **at least as great as** the keys stored at its children. \n",
    "\n",
    "A max-heap can be implemented as an array; \n",
    "the children of the node at index $i$ are at indices $2i + 1$ and $2i + 2$.\n",
    "\n",
    "A max-heap supports $O(logn)$ insertions, $O(1)$ time lookup for the max element, and $O(logn)$ deletion of the max element. \n",
    "\n",
    "Delete and retum the maximum element.\n",
    "\n",
    "A heap is sometimes referred to as a priority queue."
   ]
  },
  {
   "cell_type": "code",
   "execution_count": 35,
   "metadata": {},
   "outputs": [],
   "source": [
    "import itertools\n",
    "import heapq\n",
    "'''\n",
    "Suppose you were asked to write a program which takes a sequence of strings\n",
    "presented in \"streaming\" fashion: you cannot back up to read an earlier value.\n",
    "Goal: compute the k longest strings in the sequence.\n",
    "'''\n",
    "def top_k(k, stream):\n",
    "    # min_heap = [(len(s),s) for s in itertools.islice(stream, k)]\n",
    "    min_heap = [(len(s),s) for s in stream[0:k]]\n",
    "    heapq.heapify(min_heap)\n",
    "    for next_string in stream[k:]:\n",
    "        heapq.heappushpop(min_heap,(len(next_string),next_string))\n",
    "    return [p[1] for p in heapq.nsmallest(k,min_heap)]"
   ]
  },
  {
   "cell_type": "code",
   "execution_count": 36,
   "metadata": {},
   "outputs": [
    {
     "data": {
      "text/plain": [
       "['3451', '123122', '09999333']"
      ]
     },
     "execution_count": 36,
     "metadata": {},
     "output_type": "execute_result"
    }
   ],
   "source": [
    "top_k(3,['123','1','3451','123122','09999333'])"
   ]
  },
  {
   "cell_type": "code",
   "execution_count": 37,
   "metadata": {},
   "outputs": [
    {
     "data": {
      "text/plain": [
       "\u001b[0;31mDocstring:\u001b[0m Transform list into a heap, in-place, in O(len(heap)) time.\n",
       "\u001b[0;31mType:\u001b[0m      builtin_function_or_method\n"
      ]
     },
     "metadata": {},
     "output_type": "display_data"
    }
   ],
   "source": [
    "heapq.heapify?"
   ]
  },
  {
   "cell_type": "code",
   "execution_count": 38,
   "metadata": {},
   "outputs": [
    {
     "data": {
      "text/plain": [
       "\u001b[0;31mDocstring:\u001b[0m\n",
       "heappushpop(heap, item) -> value. Push item on the heap, then pop and return the smallest item\n",
       "from the heap. The combined action runs more efficiently than\n",
       "heappush() followed by a separate call to heappop().\n",
       "\u001b[0;31mType:\u001b[0m      builtin_function_or_method\n"
      ]
     },
     "metadata": {},
     "output_type": "display_data"
    }
   ],
   "source": [
    "heapq.heappushpop?"
   ]
  },
  {
   "cell_type": "code",
   "execution_count": 39,
   "metadata": {},
   "outputs": [],
   "source": []
  },
  {
   "cell_type": "markdown",
   "metadata": {},
   "source": [
    "### Tips\n",
    "- Use a heap when all you care about is **the largest or smallest elements**, and you do not need to supprot fast lookup, delect, or search operations for arbitrary elements.\n",
    "-  A heap is a good choice when you need to compute the **k largest** or **k smallest** elements in a collection. For the former, use min-heap, for the latter, use a max-heap."
   ]
  },
  {
   "cell_type": "markdown",
   "metadata": {},
   "source": [
    "#### heapq 掌握用法\n",
    "- heapq.heapify(L), which transforms the elements in L into a heap in-place\n",
    "- heapq.nlargest(k, L) (heapq.nsmallest(k, L))retumstheklargest(smallest)elementsin\n",
    "L,\n",
    "- heapq.heappush(h, e), which pushes a new element on the heap,\n",
    "- heapq.heappop(h),which pops the smallest element from the heap\n",
    "- heapq.headppushpop(h,a), which pushes a on the heap and then pops and retums the\n",
    "smallest element, and\n",
    "- e = h[0], which retums the smallest element on the heap without popping it.\n",
    "\n",
    "---\n",
    "\n",
    "- heapq min heap\n",
    "- If you need to build a max-heap on integers or floats, insert their **negative** to get the effuct of a max-heap using\n",
    "heapq"
   ]
  },
  {
   "cell_type": "code",
   "execution_count": 65,
   "metadata": {},
   "outputs": [],
   "source": [
    "stream = [12,31,3,4,34]\n",
    "heapq.heapify(stream)"
   ]
  },
  {
   "cell_type": "code",
   "execution_count": 68,
   "metadata": {},
   "outputs": [
    {
     "data": {
      "text/plain": [
       "3"
      ]
     },
     "execution_count": 68,
     "metadata": {},
     "output_type": "execute_result"
    }
   ],
   "source": [
    "stream[0]"
   ]
  },
  {
   "cell_type": "code",
   "execution_count": 73,
   "metadata": {},
   "outputs": [],
   "source": [
    "def merge_sorted_arrays(sorted_arrays):\n",
    "    return list(heapq.merge(*sorted_arrays))"
   ]
  },
  {
   "cell_type": "code",
   "execution_count": 74,
   "metadata": {},
   "outputs": [
    {
     "data": {
      "text/plain": [
       "[0, 0, 1, 1, 1, 1, 2, 3, 4]"
      ]
     },
     "execution_count": 74,
     "metadata": {},
     "output_type": "execute_result"
    }
   ],
   "source": [
    "merge_sorted_arrays([[1,2,3],[0,1,4],[0,1,1]])"
   ]
  },
  {
   "cell_type": "code",
   "execution_count": 77,
   "metadata": {},
   "outputs": [],
   "source": [
    "def mergeSortedArray(sorted_arrays):\n",
    "    min_heap = []\n",
    "    \n",
    "    sorted_arrays_iters = [iter(x) for x in sorted_arrays]"
   ]
  },
  {
   "cell_type": "code",
   "execution_count": 78,
   "metadata": {},
   "outputs": [
    {
     "data": {
      "text/plain": [
       "\u001b[0;31mDocstring:\u001b[0m\n",
       "iter(iterable) -> iterator\n",
       "iter(callable, sentinel) -> iterator\n",
       "\n",
       "Get an iterator from an object.  In the first form, the argument must\n",
       "supply its own iterator, or be a sequence.\n",
       "In the second form, the callable is called until it returns the sentinel.\n",
       "\u001b[0;31mType:\u001b[0m      builtin_function_or_method\n"
      ]
     },
     "metadata": {},
     "output_type": "display_data"
    }
   ],
   "source": [
    "iter?"
   ]
  },
  {
   "cell_type": "code",
   "execution_count": 81,
   "metadata": {},
   "outputs": [
    {
     "name": "stdout",
     "output_type": "stream",
     "text": [
      "0 1\n",
      "1 2\n",
      "2 3\n"
     ]
    }
   ],
   "source": [
    "for i,it in enumerate(iter([1,2,3])):\n",
    "    print(i,it)"
   ]
  },
  {
   "cell_type": "code",
   "execution_count": 82,
   "metadata": {},
   "outputs": [
    {
     "data": {
      "text/plain": [
       "\u001b[0;31mDocstring:\u001b[0m\n",
       "next(iterator[, default])\n",
       "\n",
       "Return the next item from the iterator. If default is given and the iterator\n",
       "is exhausted, it is returned instead of raising StopIteration.\n",
       "\u001b[0;31mType:\u001b[0m      builtin_function_or_method\n"
      ]
     },
     "metadata": {},
     "output_type": "display_data"
    }
   ],
   "source": [
    "next?"
   ]
  },
  {
   "cell_type": "markdown",
   "metadata": {},
   "source": []
  },
  {
   "cell_type": "markdown",
   "metadata": {},
   "source": []
  },
  {
   "cell_type": "code",
   "execution_count": null,
   "metadata": {},
   "outputs": [],
   "source": []
  }
 ],
 "metadata": {
  "kernelspec": {
   "display_name": "Python 3",
   "language": "python",
   "name": "python3"
  },
  "language_info": {
   "codemirror_mode": {
    "name": "ipython",
    "version": 3
   },
   "file_extension": ".py",
   "mimetype": "text/x-python",
   "name": "python",
   "nbconvert_exporter": "python",
   "pygments_lexer": "ipython3",
   "version": "3.7.3"
  },
  "toc-autonumbering": false
 },
 "nbformat": 4,
 "nbformat_minor": 2
}
