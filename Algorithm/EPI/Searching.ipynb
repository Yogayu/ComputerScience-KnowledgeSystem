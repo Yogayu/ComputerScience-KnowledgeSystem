{
 "cells": [
  {
   "cell_type": "markdown",
   "metadata": {},
   "source": [
    "## searching"
   ]
  },
  {
   "cell_type": "code",
   "execution_count": 12,
   "metadata": {},
   "outputs": [],
   "source": [
    "# BST\n",
    "def bsearch (t , A) :\n",
    "    L,U=0,len(A)-1 \n",
    "    while L <= U:\n",
    "#         M= (L + U) // 2\n",
    "        M= L + (U-L) // 2\n",
    "        if A[M] < t:\n",
    "            L = M+1\n",
    "        elif A[M] == t:\n",
    "            return M\n",
    "        else:\n",
    "            U = M - 1\n",
    "    return -1"
   ]
  },
  {
   "cell_type": "markdown",
   "metadata": {},
   "source": [
    "当 U 和 L 很大时，可能会溢出。虽然在Python中不会呢。"
   ]
  },
  {
   "cell_type": "code",
   "execution_count": 13,
   "metadata": {},
   "outputs": [],
   "source": [
    "def low_boud(arr,first,last,value):\n",
    "    while first<last:\n",
    "        mid = first + (last-first)//2\n",
    "        if arr[mid] == value:\n",
    "            return mid\n",
    "        elif arr[mid] < value:\n",
    "            first = mid+1\n",
    "        else: last = mid\n",
    "    return first\n",
    "\n",
    "def low_boud(arr,first,last,value):\n",
    "    while first<last:\n",
    "        mid = first + (last-first) //2\n",
    "        if arr[mid] < value:\n",
    "            first = mid+1\n",
    "        else: last = mid\n",
    "    return first"
   ]
  },
  {
   "cell_type": "code",
   "execution_count": 14,
   "metadata": {},
   "outputs": [
    {
     "data": {
      "text/plain": [
       "4"
      ]
     },
     "execution_count": 14,
     "metadata": {},
     "output_type": "execute_result"
    }
   ],
   "source": [
    "low_boud([1,2,2,3,4,13],0,6,4)"
   ]
  },
  {
   "cell_type": "markdown",
   "metadata": {},
   "source": [
    "When objects are comparable, they can be sorted and searched for using library search functions.\n",
    "\n",
    "- **Binary search** is an effective search tool, It is applicable to more than just sorted arrays, e.g., it can be used to search an interval of real numbers or integers.\n",
    "- If your solution uses sorting, and the computation performed after sorting is faster than sorting, e.g., O(n) or O(logn),look for solutions that do not **perform a complete sort**.\n",
    "- Consider **time/space tradesoffs**, sunch as making multiple passed through the data."
   ]
  },
  {
   "cell_type": "markdown",
   "metadata": {},
   "source": [
    "## bisect — Array bisection algorithm"
   ]
  },
  {
   "cell_type": "code",
   "execution_count": 15,
   "metadata": {},
   "outputs": [],
   "source": [
    "import bisect"
   ]
  },
  {
   "cell_type": "code",
   "execution_count": 17,
   "metadata": {},
   "outputs": [
    {
     "data": {
      "text/plain": [
       "\u001b[0;31mDocstring:\u001b[0m\n",
       "bisect_left(a, x[, lo[, hi]]) -> index\n",
       "\n",
       "Return the index where to insert item x in list a, assuming a is sorted.\n",
       "\n",
       "The return value i is such that all e in a[:i] have e < x, and all e in\n",
       "a[i:] have e >= x.  So if x already appears in the list, i points just\n",
       "before the leftmost x already there.\n",
       "\n",
       "Optional args lo (default 0) and hi (default len(a)) bound the\n",
       "slice of a to be searched.\n",
       "\u001b[0;31mType:\u001b[0m      builtin_function_or_method\n"
      ]
     },
     "metadata": {},
     "output_type": "display_data"
    }
   ],
   "source": [
    "# To find the first element that is not less than a targeted value\n",
    "#If all elements in the list are less than x, the retumed value is len(a).\n",
    "bisect.bisect_left?"
   ]
  },
  {
   "cell_type": "code",
   "execution_count": 18,
   "metadata": {},
   "outputs": [
    {
     "data": {
      "text/plain": [
       "\u001b[0;31mDocstring:\u001b[0m\n",
       "bisect_right(a, x[, lo[, hi]]) -> index\n",
       "\n",
       "Return the index where to insert item x in list a, assuming a is sorted.\n",
       "\n",
       "The return value i is such that all e in a[:i] have e <= x, and all e in\n",
       "a[i:] have e > x.  So if x already appears in the list, i points just\n",
       "beyond the rightmost x already there\n",
       "\n",
       "Optional args lo (default 0) and hi (default len(a)) bound the\n",
       "slice of a to be searched.\n",
       "\u001b[0;31mType:\u001b[0m      builtin_function_or_method\n"
      ]
     },
     "metadata": {},
     "output_type": "display_data"
    }
   ],
   "source": [
    "# To find the first element that isgreater than a targeted value\n",
    "# If all elements in the list are less than or equal to x, the retumed value is len(a).\n",
    "bisect.bisect_right?"
   ]
  },
  {
   "cell_type": "code",
   "execution_count": 19,
   "metadata": {},
   "outputs": [],
   "source": [
    "# If it is allowed, use them."
   ]
  },
  {
   "cell_type": "code",
   "execution_count": null,
   "metadata": {},
   "outputs": [],
   "source": []
  },
  {
   "cell_type": "code",
   "execution_count": null,
   "metadata": {},
   "outputs": [],
   "source": []
  },
  {
   "cell_type": "code",
   "execution_count": null,
   "metadata": {},
   "outputs": [],
   "source": []
  },
  {
   "cell_type": "code",
   "execution_count": null,
   "metadata": {},
   "outputs": [],
   "source": []
  },
  {
   "cell_type": "code",
   "execution_count": null,
   "metadata": {},
   "outputs": [],
   "source": []
  },
  {
   "cell_type": "code",
   "execution_count": null,
   "metadata": {},
   "outputs": [],
   "source": []
  },
  {
   "cell_type": "code",
   "execution_count": null,
   "metadata": {},
   "outputs": [],
   "source": []
  },
  {
   "cell_type": "code",
   "execution_count": null,
   "metadata": {},
   "outputs": [],
   "source": []
  },
  {
   "cell_type": "code",
   "execution_count": null,
   "metadata": {},
   "outputs": [],
   "source": []
  },
  {
   "cell_type": "code",
   "execution_count": null,
   "metadata": {},
   "outputs": [],
   "source": []
  },
  {
   "cell_type": "code",
   "execution_count": null,
   "metadata": {},
   "outputs": [],
   "source": []
  },
  {
   "cell_type": "code",
   "execution_count": null,
   "metadata": {},
   "outputs": [],
   "source": []
  },
  {
   "cell_type": "code",
   "execution_count": null,
   "metadata": {},
   "outputs": [],
   "source": []
  },
  {
   "cell_type": "code",
   "execution_count": null,
   "metadata": {},
   "outputs": [],
   "source": []
  },
  {
   "cell_type": "code",
   "execution_count": null,
   "metadata": {},
   "outputs": [],
   "source": []
  },
  {
   "cell_type": "code",
   "execution_count": null,
   "metadata": {},
   "outputs": [],
   "source": []
  }
 ],
 "metadata": {
  "kernelspec": {
   "display_name": "Python 3",
   "language": "python",
   "name": "python3"
  },
  "language_info": {
   "codemirror_mode": {
    "name": "ipython",
    "version": 3
   },
   "file_extension": ".py",
   "mimetype": "text/x-python",
   "name": "python",
   "nbconvert_exporter": "python",
   "pygments_lexer": "ipython3",
   "version": "3.6.4"
  }
 },
 "nbformat": 4,
 "nbformat_minor": 2
}
