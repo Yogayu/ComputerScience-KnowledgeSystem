{
 "cells": [
  {
   "cell_type": "markdown",
   "metadata": {},
   "source": [
    "## Chapter 12 Hash Tables\n",
    "- Inserts, deletes and lookups run in O(1) time on average.\n",
    "- The underlying idea is to store keys in an array. A key is stored in the array locations (\"slots\") based on its \"hash code\". \n",
    "- The hash code is an integer computed from the key by a hash function.\n",
    "- If two keys map to the same location, a \"collision\" is said to occur. "
   ]
  },
  {
   "cell_type": "markdown",
   "metadata": {},
   "source": [
    "- Collisions: The standard mechanism to deal with collisions is to maintain a linked list of objects at each array location. \n",
    "- One disadvantage of hash tables is the need for a good hash ft:nction but this is rarely an issue in practice. \n",
    "- Equal keys should have equal hash codes"
   ]
  },
  {
   "cell_type": "code",
   "execution_count": 4,
   "metadata": {},
   "outputs": [],
   "source": [
    "# A hash function suitable for strings\n",
    "import functools\n",
    "def string_hash(s, modulus):\n",
    "    MULT = 997\n",
    "    return functools.reduce(lambda v,c: (v * MULT + ord(c)) % modulus, s, 0)"
   ]
  },
  {
   "cell_type": "markdown",
   "metadata": {},
   "source": [
    "### Hash tables boot camp"
   ]
  },
  {
   "cell_type": "markdown",
   "metadata": {},
   "source": [
    "Anagrams are popular word play ptzzles.\n",
    "1. Two words are anagrams if and only if they result in equal strings after sorting.\n",
    "2. Key idea is to map strings to a representative. **A map from a sorted string to the anagrams it corresponds to.** Anytime you need to store a set of strings, a hash table is an excellent choice."
   ]
  },
  {
   "cell_type": "code",
   "execution_count": 6,
   "metadata": {},
   "outputs": [],
   "source": [
    "import collections\n",
    "# O(nmlogm)\n",
    "# The computation consists of n calls to sort and n insertions into the hash table. \n",
    "# Sorting all the keys has time complexity O(nmlogm). \n",
    "# The insertions add a tirne complexity of O(nm), \n",
    "# yielding O(nmlogm) time complexity in total.\n",
    "def find_anagrams(dictionary):\n",
    "    sorted_string_to_anagrams = collections.defaultdict(list)\n",
    "    for s in dictionary:\n",
    "        # Sorts the string, uses it as a key, and then appends the original\n",
    "        # String as another value into hash table.\n",
    "        sorted_string_to_anagrams[''.join(sorted(s))].append(s)\n",
    "    return [\n",
    "        group for group in sorted_string_to_anagrams.values if len(group) >=2\n",
    "    ]"
   ]
  },
  {
   "cell_type": "markdown",
   "metadata": {},
   "source": [
    "Tips\n",
    "- Hash Tables have **the best** theoretical and real-world performance.Each of these operations has O(1) time complexity. The O(1) time complexity for insertion is for the average case-a single insert can take O(n) if the hash table has to be resized.\n",
    "- Consider using a hash code as a **signature** to enhance performance,, e.g.t to filter out candidates.\n",
    "- Consider using a **precomputed lookup** table instead of boilerplate iJ-then code for mappings, e.g., from character to value, or character to character.\n",
    "- When defining your own type that will be put in a hash table, be sure you understand the relationship between **logical equality** and the fields the hash function must inspect.(?)\n",
    "- Sometimes you'll need a **multimap**, a map that contains multiple values for a single key, or a bi-directional map.\n",
    "- mutable containers are not hashabl\n",
    "- built-in ha sh O function can greatly simplify the implementation of a hash function for a user-defined class (`__hash__(self)`)"
   ]
  },
  {
   "cell_type": "markdown",
   "metadata": {},
   "source": [
    "### Know your hash table libraries\n",
    "There are multiple hash table-based data structures commonly used in Python:\n",
    "- set, \n",
    "- dict: accessing value associated with a key that is not present leads to a KeyError exception.\n",
    "- collections.defaultdict: return the defaultvalue of the type thatwas specified when the collection was instantiated.if k not in d then d [k] is [].\n",
    "- and collections.Counter: counting the number of occurrences of keys\n",
    "\n",
    "**set** simply stores keys"
   ]
  },
  {
   "cell_type": "markdown",
   "metadata": {},
   "source": [
    "Themostimportantoperationsforsetares.add(42),s.remove(4z),s.discard(123),x aswellas s <= t (is s asubsetof t), and s - t (elements in s that arenotin t)."
   ]
  },
  {
   "cell_type": "code",
   "execution_count": 14,
   "metadata": {},
   "outputs": [],
   "source": [
    "s = set([1,2,3,4,5,1,2])"
   ]
  },
  {
   "cell_type": "code",
   "execution_count": 15,
   "metadata": {},
   "outputs": [
    {
     "data": {
      "text/plain": [
       "{1, 2, 3, 4, 5}"
      ]
     },
     "execution_count": 15,
     "metadata": {},
     "output_type": "execute_result"
    }
   ],
   "source": [
    "s"
   ]
  },
  {
   "cell_type": "code",
   "execution_count": 16,
   "metadata": {},
   "outputs": [
    {
     "data": {
      "text/plain": [
       "{1, 2, 3, 4, 5, 23}"
      ]
     },
     "execution_count": 16,
     "metadata": {},
     "output_type": "execute_result"
    }
   ],
   "source": [
    "s.add(23)\n",
    "s"
   ]
  },
  {
   "cell_type": "code",
   "execution_count": 17,
   "metadata": {},
   "outputs": [
    {
     "data": {
      "text/plain": [
       "{1, 2, 4, 5, 23}"
      ]
     },
     "execution_count": 17,
     "metadata": {},
     "output_type": "execute_result"
    }
   ],
   "source": [
    "s.remove(3)\n",
    "s"
   ]
  },
  {
   "cell_type": "code",
   "execution_count": 20,
   "metadata": {},
   "outputs": [
    {
     "ename": "KeyError",
     "evalue": "6",
     "output_type": "error",
     "traceback": [
      "\u001b[0;31m---------------------------------------------------------------------------\u001b[0m",
      "\u001b[0;31mKeyError\u001b[0m                                  Traceback (most recent call last)",
      "\u001b[0;32m<ipython-input-20-077f15baad77>\u001b[0m in \u001b[0;36m<module>\u001b[0;34m()\u001b[0m\n\u001b[0;32m----> 1\u001b[0;31m \u001b[0ms\u001b[0m\u001b[0;34m.\u001b[0m\u001b[0mremove\u001b[0m\u001b[0;34m(\u001b[0m\u001b[0;36m6\u001b[0m\u001b[0;34m)\u001b[0m\u001b[0;34m\u001b[0m\u001b[0m\n\u001b[0m",
      "\u001b[0;31mKeyError\u001b[0m: 6"
     ]
    }
   ],
   "source": [
    "s.remove(6)"
   ]
  },
  {
   "cell_type": "code",
   "execution_count": 23,
   "metadata": {},
   "outputs": [],
   "source": [
    "#Remove an element from a set if it is a member.\n",
    "#If the element is not a member, do nothing.\n",
    "s.discard(6)"
   ]
  },
  {
   "cell_type": "code",
   "execution_count": 24,
   "metadata": {},
   "outputs": [
    {
     "name": "stdout",
     "output_type": "stream",
     "text": [
      "1\n",
      "2\n",
      "4\n",
      "5\n",
      "23\n"
     ]
    }
   ],
   "source": [
    "for x in s:\n",
    "    print(x)"
   ]
  },
  {
   "cell_type": "code",
   "execution_count": 26,
   "metadata": {},
   "outputs": [
    {
     "data": {
      "text/plain": [
       "True"
      ]
     },
     "execution_count": 26,
     "metadata": {},
     "output_type": "execute_result"
    }
   ],
   "source": [
    "t = set([1,2,3,4,5,14,23])\n",
    "s <= t"
   ]
  },
  {
   "cell_type": "code",
   "execution_count": 28,
   "metadata": {},
   "outputs": [
    {
     "name": "stdout",
     "output_type": "stream",
     "text": [
      "{3, 14}\n"
     ]
    }
   ],
   "source": [
    "print(t-s)"
   ]
  },
  {
   "cell_type": "code",
   "execution_count": 29,
   "metadata": {},
   "outputs": [],
   "source": [
    "contact = {\"mike\":32, \"susan\":23, \"Jack\":18}"
   ]
  },
  {
   "cell_type": "code",
   "execution_count": 32,
   "metadata": {},
   "outputs": [
    {
     "data": {
      "text/plain": [
       "\u001b[0;31mType:\u001b[0m        dict\n",
       "\u001b[0;31mString form:\u001b[0m {'mike': 32, 'susan': 23, 'Jack': 18}\n",
       "\u001b[0;31mLength:\u001b[0m      3\n",
       "\u001b[0;31mDocstring:\u001b[0m  \n",
       "dict() -> new empty dictionary\n",
       "dict(mapping) -> new dictionary initialized from a mapping object's\n",
       "    (key, value) pairs\n",
       "dict(iterable) -> new dictionary initialized as if via:\n",
       "    d = {}\n",
       "    for k, v in iterable:\n",
       "        d[k] = v\n",
       "dict(**kwargs) -> new dictionary initialized with the name=value pairs\n",
       "    in the keyword argument list.  For example:  dict(one=1, two=2)\n"
      ]
     },
     "metadata": {},
     "output_type": "display_data"
    }
   ],
   "source": [
    "contact?"
   ]
  },
  {
   "cell_type": "code",
   "execution_count": 33,
   "metadata": {},
   "outputs": [
    {
     "data": {
      "text/plain": [
       "dict_items([('mike', 32), ('susan', 23), ('Jack', 18)])"
      ]
     },
     "execution_count": 33,
     "metadata": {},
     "output_type": "execute_result"
    }
   ],
   "source": [
    "contact.items()"
   ]
  },
  {
   "cell_type": "code",
   "execution_count": 34,
   "metadata": {},
   "outputs": [
    {
     "data": {
      "text/plain": [
       "dict_values([32, 23, 18])"
      ]
     },
     "execution_count": 34,
     "metadata": {},
     "output_type": "execute_result"
    }
   ],
   "source": [
    "contact.values()"
   ]
  },
  {
   "cell_type": "code",
   "execution_count": 35,
   "metadata": {},
   "outputs": [
    {
     "data": {
      "text/plain": [
       "dict_keys(['mike', 'susan', 'Jack'])"
      ]
     },
     "execution_count": 35,
     "metadata": {},
     "output_type": "execute_result"
    }
   ],
   "source": [
    "contact.keys()"
   ]
  },
  {
   "cell_type": "markdown",
   "metadata": {},
   "source": [
    "### 12.1 Test for palindromic permutations"
   ]
  },
  {
   "cell_type": "markdown",
   "metadata": {},
   "source": [
    "The Conclusion is that all characters must occur in pairs for a string to be permutable into a palindrome.\n",
    "- odd length: \n",
    "- even length: each character in the string appears an even number of times.\n",
    "Both these cases are covered by testing that at most one character appears an odd number of times, which can be checked using a **hash table mapping characters to frequencies**."
   ]
  },
  {
   "cell_type": "code",
   "execution_count": 37,
   "metadata": {},
   "outputs": [],
   "source": [
    "def can_form_palindrome(s) :\n",
    "    # A string can be permuted to forn a paTindrone if and onTy if the number \n",
    "    # of chars whose frequencies is odd is at most 1.\n",
    "    return sum(v % 2 for v in collections.Counter(s).values()) <= 1"
   ]
  },
  {
   "cell_type": "code",
   "execution_count": null,
   "metadata": {},
   "outputs": [],
   "source": []
  }
 ],
 "metadata": {
  "kernelspec": {
   "display_name": "Python 3",
   "language": "python",
   "name": "python3"
  },
  "language_info": {
   "codemirror_mode": {
    "name": "ipython",
    "version": 3
   },
   "file_extension": ".py",
   "mimetype": "text/x-python",
   "name": "python",
   "nbconvert_exporter": "python",
   "pygments_lexer": "ipython3",
   "version": "3.7.3"
  }
 },
 "nbformat": 4,
 "nbformat_minor": 2
}
